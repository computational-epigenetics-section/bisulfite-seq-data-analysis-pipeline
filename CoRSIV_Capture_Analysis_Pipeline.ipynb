{
 "cells": [
  {
   "cell_type": "markdown",
   "metadata": {},
   "source": [
    "# CoRSIV Capture Bisulfite Sequencing Analysis Pipeline\n"
   ]
  },
  {
   "cell_type": "markdown",
   "metadata": {},
   "source": [
    "###  Software used (Updated: 02/06/2020)\n",
    "\n",
    "```bash\n",
    "trim_galore v0.4.4\n",
    "FastQC v0.11.5\n",
    "Bismark v0.18.1_dev\n",
    "```\n"
   ]
  },
  {
   "cell_type": "markdown",
   "metadata": {},
   "source": [
    "\n",
    "## Step1: Adapter Trimming\n",
    "\n",
    "### Trim Galore is a wrapper script to automate quality and adapter trimming as well as quality control.\n",
    "This software automatically\n",
    "- removes base calls with a Phred score of 20 or lower (assuming Sanger encoding)\n",
    "- removes sequences that got shorter than 50 bp\n",
    "\n",
    "```bash\n",
    "\n",
    "-q/--quality <INT>      Trim low-quality ends from reads in addition to adapter removal. For\n",
    "                        RRBS samples, quality trimming will be performed first, and adapter\n",
    "                        trimming is carried in a second round. Other files are quality and adapter\n",
    "                        trimmed in a single pass. The algorithm is the same as the one used by BWA\n",
    "                        (Subtract INT from all qualities; compute partial sums from all indices\n",
    "                        to the end of the sequence; cut sequence at the index at which the sum is\n",
    "                        minimal). Default Phred score: 20.\n",
    "                        \n",
    "--length <INT>          Discard reads that became shorter than length INT because of either\n",
    "                        quality or adapter trimming. A value of '0' effectively disables\n",
    "                        this behaviour. Default: 20 bp.\n",
    "                        \n",
    "--paired                This option performs length trimming of quality/adapter/RRBS trimmed reads for\n",
    "                        paired-end files. To pass the validation test, both sequences of a sequence pair\n",
    "                        are required to have a certain minimum length which is governed by the option\n",
    "                        --length (see above). If only one read passes this length threshold the\n",
    "                        other read can be rescued (see option --retain_unpaired). Using this option lets\n",
    "                        you discard too short read pairs without disturbing the sequence-by-sequence order\n",
    "                        of FastQ files which is required by many aligners.\n",
    "\n",
    "                        Trim Galore! expects paired-end files to be supplied in a pairwise fashion, e.g.\n",
    "                        file1_1.fq file1_2.fq SRR2_1.fq.gz SRR2_2.fq.gz ... .\n",
    "\n",
    "R1=$(realpath $1)\n",
    "R2=$(realpath $2)\n",
    "\n",
    "# QUALITY TRIM READS\n",
    "echo \"Trimming reads...\"\n",
    "trim_galore --paired --dont_gzip -q 20 --length 50 $R1 $R2\n",
    "\n",
    "```"
   ]
  },
  {
   "cell_type": "markdown",
   "metadata": {},
   "source": [
    "## Step2: Check Data Quality\n",
    "\n",
    "FastQC reads a set of sequence files and produces from each one a quality control report consisting of a number of different modules, each one of which will help to identify a different potential type of problem in your data.\n",
    "\n",
    "```bash\n",
    "\n",
    "-t --threads    Specifies the number of files which can be processed\n",
    "                    simultaneously.  Each thread will be allocated 250MB of\n",
    "                    memory so you shouldn't run more threads than your\n",
    "                    available memory will cope with, and not more than\n",
    "                    6 threads on a 32 bit machine\n",
    "\n",
    "fastqc -t 4 $R1 $R2\n",
    "\n",
    "```"
   ]
  },
  {
   "cell_type": "markdown",
   "metadata": {},
   "source": [
    "# Step3: Using Bismark to map sequencing reads to the reference genome (hg38)\n",
    "\n",
    "### 3.1 Prepare a new reference genome(hg38) to be used by bismark\n",
    "The downloaded referece genome (.fa) should be in the same directory where this shell script is called from.\n",
    "\n",
    "### 3.2 Mapping reads to referece genome using Bismark\n",
    "\n",
    "Description of the parameters used:\n",
    " \n",
    "```bash\n",
    "\n",
    "\n",
    "-q/--fastq               The query input files (specified as <mate1>,<mate2> or <singles> are FASTQ\n",
    "                         files (usually having extension .fg or .fastq). This is the default. See also\n",
    "                         --solexa-quals.\n",
    "\n",
    "-1: read 1 fastq file\n",
    "-2: read 2 fastq file\n",
    "\n",
    " \n",
    "bismark --multicore 10 -q --temp_dir ./bismark --genome /home/scott/genomes/human/gencode -1 $R1 -2 $R2\n",
    "\n",
    "```"
   ]
  },
  {
   "cell_type": "markdown",
   "metadata": {},
   "source": [
    "# Step4: Extract methylation counts over each CpG site\n",
    "\n",
    "### 4.1 Using Bismark methylation extractor\n",
    "This step will extract the methylation information from the Bismark alignment output. bismark_methylation_extractor script operates on Bismark result files and extracts the methylation call for every single C analysed. The position of every single C will be written out to a new output file as follows.\n",
    "\n",
    "<chromosome> <start position> <end position> <methylation percentage> <count methylated> <count unmethylated>\n",
    "    \n",
    "    \n",
    "To get this coverage file, following parameters were used with the bismark_methylation_extractor script.\n",
    "\n",
    "\n",
    "```bash\n",
    "--bedGraph               After finishing the methylation extraction, the methylation output is written into a\n",
    "                         sorted bedGraph file that reports the position of a given cytosine and its methylation \n",
    "                         state (in %, see details below).\n",
    "                         \n",
    "--cytosine_report        After the conversion to bedGraph has completed, the option '--cytosine_report' produces a\n",
    "                         genome-wide methylation report for all cytosines in the genome.\n",
    "                         \n",
    " \n",
    "\n",
    "bismark_methylation_extractor  -p --comprehensive --report --multicore 8 $1 --bedGraph --buffer_size 8G --ample_memory --cytosine_report --gzip --genome_folder /home/scott/genomes/human/gencode\n",
    " \n",
    "```\n",
    "\n",
    "### 4.2 Coverage to Cytosine\n",
    "\n",
    "```bash\n",
    "\n",
    "coverage2cytosine --merge_CpG --genome_folder /home/scott/genomes/human/gencode $1 -o $1.cyt.cov\n",
    "```\n",
    "\n",
    "Starting from the coverage output, the Bismark methylation extractor can optionally also output a\n",
    "genome-wide cytosine methylation report. The module coverage2cytosine was run individually to the bedGraph or coverage output so that every cytosine on both the top and bottom strands will be considered irrespective of whether they were actually covered by any reads in the experiment or not\n",
    "\n",
    "\n"
   ]
  },
  {
   "cell_type": "code",
   "execution_count": null,
   "metadata": {},
   "outputs": [],
   "source": []
  }
 ],
 "metadata": {
  "kernelspec": {
   "display_name": "Python 3",
   "language": "python",
   "name": "python3"
  },
  "language_info": {
   "codemirror_mode": {
    "name": "ipython",
    "version": 3
   },
   "file_extension": ".py",
   "mimetype": "text/x-python",
   "name": "python",
   "nbconvert_exporter": "python",
   "pygments_lexer": "ipython3",
   "version": "3.7.4"
  }
 },
 "nbformat": 4,
 "nbformat_minor": 2
}
