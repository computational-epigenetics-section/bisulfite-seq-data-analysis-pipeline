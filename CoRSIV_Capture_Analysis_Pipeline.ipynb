{
 "cells": [
  {
   "cell_type": "markdown",
   "metadata": {},
   "source": [
    "# CoRSIV Capture Bisulfite Sequencing Analysis Pipeline\n"
   ]
  },
  {
   "cell_type": "markdown",
   "metadata": {},
   "source": [
    "###  Software used (Updated: 02/06/2020)\n",
    "\n",
    "```bash\n",
    "trim_galore v0.4.4\n",
    "FastQC v0.11.5\n",
    "Bismark v0.18.1_dev\n",
    "```\n"
   ]
  },
  {
   "cell_type": "markdown",
   "metadata": {},
   "source": [
    "\n",
    "## Step1: Adapter Trimming\n",
    "\n",
    "### Trim Galore is a wrapper script to automate quality and adapter trimming as well as quality control.\n",
    "This software automatically\n",
    "- removes base calls with a Phred score of 20 or lower (assuming Sanger encoding)\n",
    "- removes sequences that got shorter than 50 bp\n",
    "\n",
    "```bash\n",
    "\n",
    "-q/--quality <INT>      Trim low-quality ends from reads in addition to adapter removal. For\n",
    "                        RRBS samples, quality trimming will be performed first, and adapter\n",
    "                        trimming is carried in a second round. Other files are quality and adapter\n",
    "                        trimmed in a single pass. The algorithm is the same as the one used by BWA\n",
    "                        (Subtract INT from all qualities; compute partial sums from all indices\n",
    "                        to the end of the sequence; cut sequence at the index at which the sum is\n",
    "                        minimal). Default Phred score: 20.\n",
    "                        \n",
    "--length <INT>          Discard reads that became shorter than length INT because of either\n",
    "                        quality or adapter trimming. A value of '0' effectively disables\n",
    "                        this behaviour. Default: 20 bp.\n",
    "                        \n",
    "--paired                This option performs length trimming of quality/adapter/RRBS trimmed reads for\n",
    "                        paired-end files. To pass the validation test, both sequences of a sequence pair\n",
    "                        are required to have a certain minimum length which is governed by the option\n",
    "                        --length (see above). If only one read passes this length threshold the\n",
    "                        other read can be rescued (see option --retain_unpaired). Using this option lets\n",
    "                        you discard too short read pairs without disturbing the sequence-by-sequence order\n",
    "                        of FastQ files which is required by many aligners.\n",
    "\n",
    "                        Trim Galore! expects paired-end files to be supplied in a pairwise fashion, e.g.\n",
    "                        file1_1.fq file1_2.fq SRR2_1.fq.gz SRR2_2.fq.gz ... .\n",
    "\n",
    "R1=$(realpath $1)\n",
    "R2=$(realpath $2)\n",
    "\n",
    "# QUALITY TRIM READS\n",
    "echo \"Trimming reads...\"\n",
    "trim_galore --paired --dont_gzip -q 20 --length 50 $R1 $R2\n",
    "\n",
    "```"
   ]
  },
  {
   "cell_type": "markdown",
   "metadata": {},
   "source": [
    "## Step2: Check Data Quality\n",
    "\n",
    "FastQC reads a set of sequence files and produces from each one a quality control report consisting of a number of different modules, each one of which will help to identify a different potential type of problem in your data.\n",
    "\n",
    "```bash\n",
    "\n",
    "-t --threads    Specifies the number of files which can be processed\n",
    "                    simultaneously.  Each thread will be allocated 250MB of\n",
    "                    memory so you shouldn't run more threads than your\n",
    "                    available memory will cope with, and not more than\n",
    "                    6 threads on a 32 bit machine\n",
    "\n",
    "fastqc -t 4 $R1 $R2\n",
    "\n",
    "```"
   ]
  },
  {
   "cell_type": "markdown",
   "metadata": {},
   "source": [
    "# Step3: Using Bismark to map sequencing reads to the reference genome (hg38)\n",
    "\n",
    "### 3.1 Prepare a new reference genome(hg38) to be used by bismark\n",
    "The downloaded referece genome (.fa) should be in the same directory where this shell script is called from.\n",
    "\n",
    "### 3.2 Mapping reads to referece genome using Bismark\n",
    "\n",
    "Description of the parameters used:\n",
    " \n",
    "```bash\n",
    "\n",
    "\n",
    "-q/--fastq               The query input files (specified as <mate1>,<mate2> or <singles> are FASTQ\n",
    "                         files (usually having extension .fg or .fastq). This is the default. See also\n",
    "                         --solexa-quals.\n",
    "\n",
    "-1: read 1 fastq file\n",
    "-2: read 2 fastq file\n",
    "\n",
    " \n",
    "bismark --multicore 10 -q --temp_dir ./bismark --genome /home/scott/genomes/human/gencode -1 $R1 -2 $R2\n",
    "\n",
    "```"
   ]
  },
  {
   "cell_type": "code",
   "execution_count": null,
   "metadata": {},
   "outputs": [],
   "source": []
  }
 ],
 "metadata": {
  "kernelspec": {
   "display_name": "Python 3",
   "language": "python",
   "name": "python3"
  },
  "language_info": {
   "codemirror_mode": {
    "name": "ipython",
    "version": 3
   },
   "file_extension": ".py",
   "mimetype": "text/x-python",
   "name": "python",
   "nbconvert_exporter": "python",
   "pygments_lexer": "ipython3",
   "version": "3.7.4"
  }
 },
 "nbformat": 4,
 "nbformat_minor": 2
}
