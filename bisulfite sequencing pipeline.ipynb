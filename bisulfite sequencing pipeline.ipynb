{
 "cells": [
  {
   "cell_type": "markdown",
   "metadata": {
    "collapsed": true
   },
   "source": [
    "## Independent genomewide screens identify the tumor suppressor VTRNA2-1 as a human epiallele responsive to periconceptional environment"
   ]
  },
  {
   "cell_type": "markdown",
   "metadata": {},
   "source": [
    "# 1. Configure the same software tools and versions used. \n",
    "#### To do this .bash_rc file from /home/jduryea will be used\n",
    "\n",
    "##### The following output shows the .bash_rc paths that will be used for this analysis. This should render the output exactly similar to Jack's sample output file for CO1_HF_lane1\n",
    "\n",
    "\n",
    "```bash\n",
    "export PATH=$PATH:/home/noahk/bin/\n",
    "export PATH=$PATH:/home/noahk/bin/\n",
    "export PATH=$PATH:/home/jdong/miniconda2/bin\n",
    "export PATH=$PATH:/home/jdong/bismark_v0.16.3\n",
    "export PATH=$PATH:/home/noahk/software/cutadapt-1.8.3/bin\n",
    "export PATH=$PATH:/home/jdong/sratoolkit.2.8.1-centos_linux64/bin\n",
    "export PATH=$PATH:/home/noahk/jduryea/samstat-1.5.1/bin\n",
    "export PATH=$PATH:/home/coarfa/pkgs/java/bin\n",
    "export PATH=$PATH:/home/noahk/software/picard/bin\n",
    "export PATH=$PATH:/home/coarfa/pkgs/java/picard/picard.jar\n",
    "export PATH=$PATH:/home/coarfa/pkgs/picardtools-2.9.0/picard.jar\n",
    "export PATH=$PATH:/home/coarfa/pkgs/picard/picard.jar\n",
    "export JAVA_HOME=/home/coarfa/pkgs/java\n",
    "export PATH=$JAVA_HOME/bin:$PATH\n",
    "export PATH=$PATH:/home/coarfa/pkgs/picardtools-2.9.0\n",
    "export PATH=$PATH:/home/coarfa/pkgs/java/picard\n",
    "export PATH=$PATH:/home/jduryea/trim_galore_v0.4.4\n",
    "export PATH=$PATH:/home/jduryea\n",
    "export PATH=$PATH:/home/noahk/software/FastQC/bin\n",
    "export PATH=$PATH:/home/noahk/software/trim_galore_v0.4.4\n",
    "export PATH=$PATH:/home/jduryea/bin/bamtools/bin\n",
    "export PATH=$PATH:/home/jduryea/bin/biscuit-release\n",
    "export PATH=$PATH:~/.local/bin\n",
    "```"
   ]
  },
  {
   "cell_type": "markdown",
   "metadata": {},
   "source": [
    "# 2. Download data from SRA\n",
    "\n",
    "The Gene Expression Omnibus (GEO) accession number for the raw sequence reads for the four Bisulfite-seq libraries is GSE44806.\n",
    "\n",
    "- --split-files: This option in the fastq-dump tool, split the SRA file in to fastq file with read1.fq and read2.fq\n",
    "\n",
    "\n",
    "```bash\n",
    "#!/bin/sh\n",
    "\n",
    "#SBATCH --time=24:00:00\n",
    "#SBATCH -n4\n",
    "#SBATCH -p dque\n",
    "\n",
    "starttime=$(date +\"%s\")\n",
    "echo $(date -u -d @${starttime})\n",
    "echo \"options: --time=24:00:00 -n4 -p dque\"\n",
    "echo \"$0\"\n",
    "\n",
    "for i in 1 2 3 4 5 6 7 8 9\n",
    "do\n",
    "    ftp://ftp-trace.ncbi.nlm.nih.gov/sra/sra-instant/reads/ByExp/sra/SRX/SRX248/SRX248434/SRR77140\"${i}\"/SRR77140\"${i}\".sra\n",
    "    fastq-dump --split-files SRR77140\"${i}\".sra\n",
    "done\n",
    "\n",
    "for i in 10 11 12\n",
    "do\n",
    "    ftp://ftp-trace.ncbi.nlm.nih.gov/sra/sra-instant/reads/ByExp/sra/SRX/SRX248/SRX248434/SRR7714\"${i}\"/SRR7714\"${i}\".sra\n",
    "    fastq-dump --split-files SRR7714\"${i}\".sra\n",
    "done\n",
    "\n",
    "endtime=$(date +\"%s\")\n",
    "echo $(date -u -d @${endtime})\n",
    "echo \"Time elapsed\" $(date -u -d @$(($endtime-$starttime)) +\"%T\")\n",
    "```"
   ]
  },
  {
   "cell_type": "markdown",
   "metadata": {
    "collapsed": true
   },
   "source": [
    "## For the demonstration and comparison  SRR771401.fastq file will be used."
   ]
  },
  {
   "cell_type": "markdown",
   "metadata": {},
   "source": [
    "# 3. Quality control using trim_galore software\n",
    "\n",
    "Trim Galore! is a wrapper script to automate quality and adapter trimming as well as quality control.\n",
    "This software automatically\n",
    "- removes base calls with a Phred score of 20 or lower (assuming Sanger encoding)\n",
    "- removes any signs of the Illumina adapter sequence from the 3' end (AGATCGGAAGAGC)\n",
    "- removes sequences that got shorter than 20 bp\n",
    "\n",
    "\n",
    " ```bash\n",
    "#!/bin/sh\n",
    "\n",
    "#SBATCH --time=24:00:00\n",
    "#SBATCH -n4\n",
    "#SBATCH -p dque\n",
    "\n",
    "starttime=$(date +\"%s\")\n",
    "echo $(date -u -d @${starttime})\n",
    "echo \"options: --time=24:00:00 -n4 -p dque\"\n",
    "echo \"$0\"\n",
    "\n",
    "trim_galore --paired --trim1 SRR771401_1.fastq SRR771401_2.fastq\n",
    "\n",
    "endtime=$(date +\"%s\")\n",
    "echo $(date -u -d @${endtime})\n",
    "echo \"Time elapsed\" $(date -u -d @$(($endtime-$starttime)) +\"%T\")\n",
    "```"
   ]
  },
  {
   "cell_type": "markdown",
   "metadata": {},
   "source": [
    "# 4. Using Bismark to map to the reference genome\n",
    "\n",
    "**Note that different versions of the human genome file can introduce differences. So use the same file used by Jack**\n",
    "\n",
    "-**Location of the processed human genome used by Jack :**\n",
    "/home/jduryea/genomes/homo_sapiens/hg38"
   ]
  },
  {
   "cell_type": "markdown",
   "metadata": {},
   "source": [
    "### 4.1 To prepare a new reference genome to be used by bismark following shell script can be used.\n",
    "The downloaded referece genome (.fa) should be in the same directory where this shell script is called from.\n",
    "\n",
    "```bash\n",
    "#!/bin/sh\n",
    "\n",
    "#SBATCH --time=100:00:00\n",
    "#SBATCH -n4\n",
    "#SBATCH -p longjob\n",
    "\n",
    "starttime=$(date +\"%s\")\n",
    "echo $(date -u -d @${starttime})\n",
    "echo \"options: --time=100:00:00 -n4 -p longjob\"\n",
    "echo \"$0\"\n",
    "\n",
    "bismark_genome_preparation ./\n",
    "\n",
    "endtime=$(date +\"%s\")\n",
    "echo $(date -u -d @${endtime})\n",
    "echo \"Time elapsed\" $(date -u -d @$(($endtime-$starttime)) +\"%T\")\n",
    "```\n"
   ]
  },
  {
   "cell_type": "markdown",
   "metadata": {},
   "source": [
    "### 4.2 Mapping reads to referece genome using Bismark"
   ]
  },
  {
   "cell_type": "markdown",
   "metadata": {},
   "source": [
    " Description of the parameters used:\n",
    " \n",
    "- -q : The query input files (specified as <mate1>,<mate2> or <singles> are FASTQ files (usually having extension .fg or .fastq). This is the default.\n",
    " \n",
    "- --bowtie2 : Default: ON. Uses Bowtie 2 instead of Bowtie 1. Bismark limits Bowtie 2 to only perform end-to-end alignments, i.e. searches for alignments involving all read characters (also called untrimmed or unclipped alignments). Bismark assumes that raw sequence data is adapter and/or quality trimmed where appropriate. Both small (.bt2) and large (.bt2l) Bowtie 2 indexes are supported.\n",
    " \n",
    "- -p : This options if to paralleliztion of bowtie2\n",
    " \n",
    "- [genome folder] in this example, the pathe to the genome folder used by Jack is given.\n",
    "\n",
    "- -B : The base name of the .BAM file generated from the Bismark.\n",
    "- --multicore : this option works when -B is not specified. Use this to set the programm to run in parallel.\n",
    "- -1: read 1 fastq file\n",
    "- -2: read 2 fastq file\n",
    "\n",
    "- ** Note that, if you are planning to use bisSNP later, add the --rg_tag to bismark. The the read groups will be tagged with some information about the sequecing for later use.\n",
    "\n",
    " \n",
    "\n",
    "\n",
    "```bash\n",
    "#!/bin/sh\n",
    "\n",
    "#SBATCH --time=48:00:00\n",
    "#SBATCH -n4\n",
    "#SBATCH -p dque\n",
    "\n",
    "starttime=$(date +\"%s\")\n",
    "echo $(date -u -d @${starttime})\n",
    "echo \"options: --time=48:00:00 -n4 -p dque\"\n",
    "echo \"$0\"\n",
    "\n",
    "bismark -q --bowtie2 -p 4 /home/jduryea/genomes/homo_sapiens/hg38 -B C01_HF_lane1 -1 SRR771401_1.qc.fastq -2 SRR771401_2.qc.fastq\n",
    "\n",
    "endtime=$(date +\"%s\")\n",
    "echo $(date -u -d @${endtime})\n",
    "echo \"Time elapsed\" $(date -u -d @$(($endtime-$starttime)) +\"%T\")\n",
    "```"
   ]
  },
  {
   "cell_type": "markdown",
   "metadata": {},
   "source": [
    "### 4.3 Splitting tha bam file to extract only the Chr 19 bam file to demonstrate the output using split_bam software tool\n",
    "\n",
    "\n",
    "```bash\n",
    "\n",
    "#!/bin/sh\n",
    "\n",
    "#SBATCH --time=48:00:00\n",
    "#SBATCH -n4\n",
    "#SBATCH -p dque\n",
    "\n",
    "starttime=$(date +\"%s\")\n",
    "echo $(date -u -d @${starttime})\n",
    "echo \"options: --time=48:00:00 -n4 -p dque\"\n",
    "echo \"$0\"\n",
    "\n",
    "split_bam C02_HF_lane1_pe.bam\n",
    "\n",
    "endtime=$(date +\"%s\")\n",
    "echo $(date -u -d @${endtime})\n",
    "echo \"Time elapsed\" $(date -u -d @$(($endtime-$starttime)) +\"%T\")\n",
    "\n",
    "```\n",
    "\n",
    "This generates lots of files including one for chromosome and other scaffoldings ect. **Just take the chr19 bam file** and used for furether processing.\n",
    "\n",
    "- The following file is used C01_HF_lane1_pe.REF_chr19.bam\n"
   ]
  },
  {
   "cell_type": "markdown",
   "metadata": {},
   "source": [
    "# 5. Methylation extraction using bismark_methylation_extractor"
   ]
  },
  {
   "cell_type": "markdown",
   "metadata": {},
   "source": [
    "** Potentiall important consideration**\n",
    "--no_overlap\n",
    "\n",
    "For paired-end reads it is theoretically possible that Read 1 and Read 2 overlap. This option avoids scoring overlapping methylation calls twice (only methylation calls of read 1 are used for in the process since read 1 has historically higher quality basecalls than read 2). \n",
    "\n",
    "This is set automatically by the methylation extractor.\n",
    "\n",
    "```bash\n",
    "\n",
    "#!/bin/sh\n",
    "\n",
    "#SBATCH --time=24:00:00\n",
    "#SBATCH -n4\n",
    "#SBATCH -p dque\n",
    "\n",
    "starttime=$(date +\"%s\")\n",
    "echo $(date -u -d @${starttime})\n",
    "echo \"options: --time=24:00:00 -n4 -p dque\"\n",
    "echo \"$0\"\n",
    "\n",
    "bismark_methylation_extractor -p --comprehensive --report --multicore 4 --samtools_path /home/noahk/software/samtools-1.2 --bedGraph --buffer_size 8G --ample_memory --cytosine_report --genome_folder  /home/jduryea/genomes/homo_sapiens/hg38 C01_HF_lane1_pe.REF_chr19.bam\n",
    "\n",
    "endtime=$(date +\"%s\")\n",
    "echo $(date -u -d @${endtime})\n",
    "echo \"Time elapsed\" $(date -u -d @$(($endtime-$starttime)) +\"%T\")\n",
    "\n",
    "```"
   ]
  },
  {
   "cell_type": "markdown",
   "metadata": {},
   "source": [
    "### The methylation extractor produces a coverge file as shown in the sample below."
   ]
  },
  {
   "cell_type": "code",
   "execution_count": 35,
   "metadata": {
    "collapsed": true
   },
   "outputs": [],
   "source": [
    "import pandas as pd\n",
    "filename = \"./sanity_check/C01_HF_chr19_1.bismark.cov\"\n",
    "df_cov = pd.read_table(filename,header=None)\n",
    "df_cov.columns = ['Chromosome','Position','End','Perc','Methylated','Unmethylated']"
   ]
  },
  {
   "cell_type": "code",
   "execution_count": 36,
   "metadata": {},
   "outputs": [
    {
     "data": {
      "text/html": [
       "<div>\n",
       "<style>\n",
       "    .dataframe thead tr:only-child th {\n",
       "        text-align: right;\n",
       "    }\n",
       "\n",
       "    .dataframe thead th {\n",
       "        text-align: left;\n",
       "    }\n",
       "\n",
       "    .dataframe tbody tr th {\n",
       "        vertical-align: top;\n",
       "    }\n",
       "</style>\n",
       "<table border=\"1\" class=\"dataframe\">\n",
       "  <thead>\n",
       "    <tr style=\"text-align: right;\">\n",
       "      <th></th>\n",
       "      <th>Chromosome</th>\n",
       "      <th>Position</th>\n",
       "      <th>End</th>\n",
       "      <th>Perc</th>\n",
       "      <th>Methylated</th>\n",
       "      <th>Unmethylated</th>\n",
       "    </tr>\n",
       "  </thead>\n",
       "  <tbody>\n",
       "    <tr>\n",
       "      <th>0</th>\n",
       "      <td>chr19</td>\n",
       "      <td>61198</td>\n",
       "      <td>61198</td>\n",
       "      <td>100.000000</td>\n",
       "      <td>3</td>\n",
       "      <td>0</td>\n",
       "    </tr>\n",
       "    <tr>\n",
       "      <th>1</th>\n",
       "      <td>chr19</td>\n",
       "      <td>61291</td>\n",
       "      <td>61291</td>\n",
       "      <td>100.000000</td>\n",
       "      <td>8</td>\n",
       "      <td>0</td>\n",
       "    </tr>\n",
       "    <tr>\n",
       "      <th>2</th>\n",
       "      <td>chr19</td>\n",
       "      <td>61380</td>\n",
       "      <td>61380</td>\n",
       "      <td>66.666667</td>\n",
       "      <td>2</td>\n",
       "      <td>1</td>\n",
       "    </tr>\n",
       "    <tr>\n",
       "      <th>3</th>\n",
       "      <td>chr19</td>\n",
       "      <td>61396</td>\n",
       "      <td>61396</td>\n",
       "      <td>100.000000</td>\n",
       "      <td>3</td>\n",
       "      <td>0</td>\n",
       "    </tr>\n",
       "    <tr>\n",
       "      <th>4</th>\n",
       "      <td>chr19</td>\n",
       "      <td>61496</td>\n",
       "      <td>61496</td>\n",
       "      <td>100.000000</td>\n",
       "      <td>1</td>\n",
       "      <td>0</td>\n",
       "    </tr>\n",
       "    <tr>\n",
       "      <th>5</th>\n",
       "      <td>chr19</td>\n",
       "      <td>61835</td>\n",
       "      <td>61835</td>\n",
       "      <td>0.000000</td>\n",
       "      <td>0</td>\n",
       "      <td>1</td>\n",
       "    </tr>\n",
       "    <tr>\n",
       "      <th>6</th>\n",
       "      <td>chr19</td>\n",
       "      <td>61842</td>\n",
       "      <td>61842</td>\n",
       "      <td>0.000000</td>\n",
       "      <td>0</td>\n",
       "      <td>1</td>\n",
       "    </tr>\n",
       "    <tr>\n",
       "      <th>7</th>\n",
       "      <td>chr19</td>\n",
       "      <td>61861</td>\n",
       "      <td>61861</td>\n",
       "      <td>0.000000</td>\n",
       "      <td>0</td>\n",
       "      <td>1</td>\n",
       "    </tr>\n",
       "    <tr>\n",
       "      <th>8</th>\n",
       "      <td>chr19</td>\n",
       "      <td>62198</td>\n",
       "      <td>62198</td>\n",
       "      <td>100.000000</td>\n",
       "      <td>1</td>\n",
       "      <td>0</td>\n",
       "    </tr>\n",
       "    <tr>\n",
       "      <th>9</th>\n",
       "      <td>chr19</td>\n",
       "      <td>62748</td>\n",
       "      <td>62748</td>\n",
       "      <td>0.000000</td>\n",
       "      <td>0</td>\n",
       "      <td>1</td>\n",
       "    </tr>\n",
       "  </tbody>\n",
       "</table>\n",
       "</div>"
      ],
      "text/plain": [
       "  Chromosome  Position    End        Perc  Methylated  Unmethylated\n",
       "0      chr19     61198  61198  100.000000           3             0\n",
       "1      chr19     61291  61291  100.000000           8             0\n",
       "2      chr19     61380  61380   66.666667           2             1\n",
       "3      chr19     61396  61396  100.000000           3             0\n",
       "4      chr19     61496  61496  100.000000           1             0\n",
       "5      chr19     61835  61835    0.000000           0             1\n",
       "6      chr19     61842  61842    0.000000           0             1\n",
       "7      chr19     61861  61861    0.000000           0             1\n",
       "8      chr19     62198  62198  100.000000           1             0\n",
       "9      chr19     62748  62748    0.000000           0             1"
      ]
     },
     "execution_count": 36,
     "metadata": {},
     "output_type": "execute_result"
    }
   ],
   "source": [
    "df_cov.iloc[0:10]"
   ]
  },
  {
   "cell_type": "markdown",
   "metadata": {},
   "source": [
    "### Position\n",
    "The Position indicate the start location of the methylated citosine base (CG) in chromose-wise (by default). There is an option in methylation extractor to specify otherwise. (Check if this is correct ?)\n",
    "\n",
    "### End\n",
    "The end position of the citosine base. Its the same as the start because its one base.\n",
    "\n",
    "### Methylation Percentage\n",
    "This percentage represent the actual read coverage of detected methylated or unmethylated reads at a position.\n",
    "\n",
    "\n",
    "### count methylated\n",
    "out of the aligned reads, how many reads say its methylated CG\n",
    "\n",
    "### count unmethylated\n",
    "out of the aligned reads, how many reads says its unmethylated CG\n",
    "\n"
   ]
  },
  {
   "cell_type": "markdown",
   "metadata": {},
   "source": [
    "# 6. (Optional) Control for the read depth"
   ]
  },
  {
   "cell_type": "code",
   "execution_count": 37,
   "metadata": {},
   "outputs": [
    {
     "data": {
      "image/png": "[encoded data removed]",
      "text/plain": [
       "<IPython.core.display.Image object>"
      ]
     },
     "execution_count": 37,
     "metadata": {
      "image/png": {
       "height": 300,
       "width": 700
      }
     },
     "output_type": "execute_result"
    }
   ],
   "source": [
    "from IPython.display import Image                        \n",
    "url='http://www.metagenomics.wiki/_/rsrc/1479665634459/pdf/definition/coverage-read-depth/coverage_breadth_depth.png'\n",
    "Image(url,width=700, height=300)"
   ]
  },
  {
   "cell_type": "markdown",
   "metadata": {},
   "source": [
    "\n",
    "The follwing shell script is used to select methylated cytosine bases that have at least covered by 10 reads. This will be set as a variable in the final bining script.\n",
    "\n",
    "```bash\n",
    "awk '$5 + $6 >=10' C01_HF_1_chr19.bismark.cov > C01_HF_1_chr19.bismark.rd.cov\n",
    "\n",
    "```\n",
    "\n",
    "### After controling for Depth of Coverage"
   ]
  },
  {
   "cell_type": "code",
   "execution_count": 38,
   "metadata": {},
   "outputs": [
    {
     "data": {
      "text/html": [
       "<div>\n",
       "<style>\n",
       "    .dataframe thead tr:only-child th {\n",
       "        text-align: right;\n",
       "    }\n",
       "\n",
       "    .dataframe thead th {\n",
       "        text-align: left;\n",
       "    }\n",
       "\n",
       "    .dataframe tbody tr th {\n",
       "        vertical-align: top;\n",
       "    }\n",
       "</style>\n",
       "<table border=\"1\" class=\"dataframe\">\n",
       "  <thead>\n",
       "    <tr style=\"text-align: right;\">\n",
       "      <th></th>\n",
       "      <th>Chromosome</th>\n",
       "      <th>Position</th>\n",
       "      <th>End</th>\n",
       "      <th>Perc</th>\n",
       "      <th>Methylated</th>\n",
       "      <th>Unmethylated</th>\n",
       "    </tr>\n",
       "  </thead>\n",
       "  <tbody>\n",
       "    <tr>\n",
       "      <th>0</th>\n",
       "      <td>chr19</td>\n",
       "      <td>61198</td>\n",
       "      <td>61198</td>\n",
       "      <td>100.000000</td>\n",
       "      <td>3</td>\n",
       "      <td>0</td>\n",
       "    </tr>\n",
       "    <tr>\n",
       "      <th>1</th>\n",
       "      <td>chr19</td>\n",
       "      <td>61291</td>\n",
       "      <td>61291</td>\n",
       "      <td>100.000000</td>\n",
       "      <td>8</td>\n",
       "      <td>0</td>\n",
       "    </tr>\n",
       "    <tr>\n",
       "      <th>2</th>\n",
       "      <td>chr19</td>\n",
       "      <td>61380</td>\n",
       "      <td>61380</td>\n",
       "      <td>66.666667</td>\n",
       "      <td>2</td>\n",
       "      <td>1</td>\n",
       "    </tr>\n",
       "    <tr>\n",
       "      <th>3</th>\n",
       "      <td>chr19</td>\n",
       "      <td>61396</td>\n",
       "      <td>61396</td>\n",
       "      <td>100.000000</td>\n",
       "      <td>3</td>\n",
       "      <td>0</td>\n",
       "    </tr>\n",
       "    <tr>\n",
       "      <th>4</th>\n",
       "      <td>chr19</td>\n",
       "      <td>61496</td>\n",
       "      <td>61496</td>\n",
       "      <td>100.000000</td>\n",
       "      <td>1</td>\n",
       "      <td>0</td>\n",
       "    </tr>\n",
       "    <tr>\n",
       "      <th>5</th>\n",
       "      <td>chr19</td>\n",
       "      <td>61835</td>\n",
       "      <td>61835</td>\n",
       "      <td>0.000000</td>\n",
       "      <td>0</td>\n",
       "      <td>1</td>\n",
       "    </tr>\n",
       "    <tr>\n",
       "      <th>6</th>\n",
       "      <td>chr19</td>\n",
       "      <td>61842</td>\n",
       "      <td>61842</td>\n",
       "      <td>0.000000</td>\n",
       "      <td>0</td>\n",
       "      <td>1</td>\n",
       "    </tr>\n",
       "    <tr>\n",
       "      <th>7</th>\n",
       "      <td>chr19</td>\n",
       "      <td>61861</td>\n",
       "      <td>61861</td>\n",
       "      <td>0.000000</td>\n",
       "      <td>0</td>\n",
       "      <td>1</td>\n",
       "    </tr>\n",
       "    <tr>\n",
       "      <th>8</th>\n",
       "      <td>chr19</td>\n",
       "      <td>62198</td>\n",
       "      <td>62198</td>\n",
       "      <td>100.000000</td>\n",
       "      <td>1</td>\n",
       "      <td>0</td>\n",
       "    </tr>\n",
       "    <tr>\n",
       "      <th>9</th>\n",
       "      <td>chr19</td>\n",
       "      <td>62748</td>\n",
       "      <td>62748</td>\n",
       "      <td>0.000000</td>\n",
       "      <td>0</td>\n",
       "      <td>1</td>\n",
       "    </tr>\n",
       "  </tbody>\n",
       "</table>\n",
       "</div>"
      ],
      "text/plain": [
       "  Chromosome  Position    End        Perc  Methylated  Unmethylated\n",
       "0      chr19     61198  61198  100.000000           3             0\n",
       "1      chr19     61291  61291  100.000000           8             0\n",
       "2      chr19     61380  61380   66.666667           2             1\n",
       "3      chr19     61396  61396  100.000000           3             0\n",
       "4      chr19     61496  61496  100.000000           1             0\n",
       "5      chr19     61835  61835    0.000000           0             1\n",
       "6      chr19     61842  61842    0.000000           0             1\n",
       "7      chr19     61861  61861    0.000000           0             1\n",
       "8      chr19     62198  62198  100.000000           1             0\n",
       "9      chr19     62748  62748    0.000000           0             1"
      ]
     },
     "execution_count": 38,
     "metadata": {},
     "output_type": "execute_result"
    }
   ],
   "source": [
    "import pandas as pd\n",
    "filename = \"./sanity_check/C01_HF_chr19_1.bismark.cov\"\n",
    "df_cov = pd.read_table(filename,header=None)\n",
    "df_cov.columns = ['Chromosome','Position','End','Perc','Methylated','Unmethylated']\n",
    "df_cov.iloc[0:10]"
   ]
  },
  {
   "cell_type": "markdown",
   "metadata": {},
   "source": [
    "# 7. Binning of cytosine to user difined bin width (e.x: 200bp)\n",
    "\n",
    "**The rest of the pipeline does not assumen filtered for read depth."
   ]
  },
  {
   "cell_type": "code",
   "execution_count": 39,
   "metadata": {
    "collapsed": true
   },
   "outputs": [],
   "source": [
    "from operator import add\n",
    "import numpy as np\n",
    "import os\n",
    "import sys\n",
    "from collections import defaultdict\n",
    "bin_size = 200\n",
    "\n",
    "df_cov = df_cov.iloc[:,-6:]\n",
    "\n",
    "df_cov = df_cov.sort_values(['Chromosome', 'Position'], ascending=[True, True])\n",
    "\n",
    "df_cov = df_cov.reset_index(drop=True)"
   ]
  },
  {
   "cell_type": "markdown",
   "metadata": {},
   "source": [
    "Create a dictionary (bin_coverage) to hold the number of methylated cytosines in each bin.\n",
    "\n",
    "    - Dictionary key: A unique bin number calculated for each bin\n",
    "\n",
    "    - Dictionary value: Incremental value, as the coverage file is parsed if cytosine positions are found within the bin range, the count increase one by one."
   ]
  },
  {
   "cell_type": "code",
   "execution_count": 40,
   "metadata": {
    "collapsed": true
   },
   "outputs": [],
   "source": [
    "bin_coverage = defaultdict(lambda:0)\n"
   ]
  },
  {
   "cell_type": "markdown",
   "metadata": {},
   "source": [
    "Create a dictionary (bin_data) to hold the methylated and unmethylated counts for each cytosine witing the bin range. All the methylated counts will be added together and unmethylated count will be added together.\n",
    "\n",
    "    - Dictionary Key: A unique bin number calculated for each bin\n",
    "    \n",
    "    - Dictionary value: A list with two values first is the sum of methylated counts and second is sum of unmethylated counts"
   ]
  },
  {
   "cell_type": "code",
   "execution_count": 41,
   "metadata": {
    "collapsed": true
   },
   "outputs": [],
   "source": [
    "bin_data = defaultdict(lambda:[0,0])"
   ]
  },
  {
   "cell_type": "markdown",
   "metadata": {},
   "source": [
    "## For example, lets creat the first bin;"
   ]
  },
  {
   "cell_type": "code",
   "execution_count": 42,
   "metadata": {},
   "outputs": [
    {
     "name": "stdout",
     "output_type": "stream",
     "text": [
      "Chromosome      chr19\n",
      "Position        61198\n",
      "End             61198\n",
      "Perc              100\n",
      "Methylated          3\n",
      "Unmethylated        0\n",
      "Name: 0, dtype: object\n"
     ]
    }
   ],
   "source": [
    "# extract the first line from the coverage file\n",
    "line = df_cov.iloc[0]\n",
    "print(line)"
   ]
  },
  {
   "cell_type": "code",
   "execution_count": 43,
   "metadata": {
    "collapsed": true,
    "scrolled": true
   },
   "outputs": [],
   "source": [
    "# Extract informatin as follows,\n",
    "chrm_name = str(line[\"Chromosome\"])\n",
    "start = int(line[\"Position\"])\n",
    "end = int(line[\"End\"])\n",
    "num_methylated_reads = line[\"Methylated\"]\n",
    "num_unmethylated_reads = line[\"Unmethylated\"]"
   ]
  },
  {
   "cell_type": "code",
   "execution_count": 44,
   "metadata": {},
   "outputs": [
    {
     "name": "stdout",
     "output_type": "stream",
     "text": [
      "305\n"
     ]
    }
   ],
   "source": [
    "bin_number = (start-1)//bin_size # Using integer division is the key here\n",
    "print (bin_number)"
   ]
  },
  {
   "cell_type": "code",
   "execution_count": 45,
   "metadata": {},
   "outputs": [
    {
     "name": "stdout",
     "output_type": "stream",
     "text": [
      "61200\n"
     ]
    }
   ],
   "source": [
    "bin_label = (bin_number*bin_size) + bin_size\n",
    "print (bin_label)"
   ]
  },
  {
   "cell_type": "markdown",
   "metadata": {},
   "source": [
    "This creates the first bin.\n",
    "\n",
    "Then get the second row and the integer division result in getting same bin_label if within the 200 bp bin."
   ]
  },
  {
   "cell_type": "code",
   "execution_count": 46,
   "metadata": {
    "collapsed": true
   },
   "outputs": [],
   "source": [
    "bin_data[bin_label] = list(map(add, bin_data[bin_label], [num_methylated_reads,num_unmethylated_reads]))\n",
    "bin_coverage[bin_label] += 1"
   ]
  },
  {
   "cell_type": "code",
   "execution_count": 47,
   "metadata": {},
   "outputs": [
    {
     "data": {
      "text/plain": [
       "dict_items([(61200, [3, 0])])"
      ]
     },
     "execution_count": 47,
     "metadata": {},
     "output_type": "execute_result"
    }
   ],
   "source": [
    "bin_data.items()"
   ]
  },
  {
   "cell_type": "code",
   "execution_count": 48,
   "metadata": {},
   "outputs": [
    {
     "data": {
      "text/plain": [
       "dict_items([(61200, 1)])"
      ]
     },
     "execution_count": 48,
     "metadata": {},
     "output_type": "execute_result"
    }
   ],
   "source": [
    "bin_coverage.items()"
   ]
  },
  {
   "cell_type": "markdown",
   "metadata": {},
   "source": [
    "Details about generating a unique binning label using the methylated cytosine positions are shown below.\n",
    "```bash\n",
    "\n",
    "read the next line from the cov file\n",
    "    if CG belongs to the first bin \n",
    "        then add to that bin. \n",
    "    else \n",
    "        create the next bin.\n",
    "        \n",
    " Do this for all lines in the coverage file.\n",
    " \n",
    " ```"
   ]
  },
  {
   "cell_type": "markdown",
   "metadata": {},
   "source": [
    "```bash\n",
    "example,\n",
    "10 => (10-1)//3 => 3\n",
    "11 => (11-1)//3 => 3\n",
    "12 => (12-1)//3 => 3\n",
    "so 10,11,12 will be in bin 3.\n",
    "13 => (13-1)//3 => 4\n",
    "\n",
    "to get the bin label,\n",
    "(bin_num(3) * bin_width(3)) + bin_width(3)\n",
    "12 => this lable is used to group (10,11,12) together\n",
    "```"
   ]
  },
  {
   "cell_type": "code",
   "execution_count": 49,
   "metadata": {
    "collapsed": true
   },
   "outputs": [],
   "source": [
    "for index, line in df_cov.iterrows():\n",
    "    # Split line into components\n",
    "    chrm_name = str(line[\"Chromosome\"])\n",
    "    start = int(line[\"Position\"])\n",
    "    end = int(line[\"End\"])\n",
    "\n",
    "    num_methylated_reads = line[\"Methylated\"]\n",
    "    num_unmethylated_reads = line[\"Unmethylated\"]\n",
    "\n",
    "    bin_number = (start-1)//bin_size # Using integer division is the key here\n",
    "    bin_label = (bin_number*bin_size) + bin_size\n",
    "\n",
    "    bin_data[bin_label] = list(map(add, bin_data[bin_label], [num_methylated_reads,num_unmethylated_reads]))\n",
    "    bin_coverage[bin_label] += 1"
   ]
  },
  {
   "cell_type": "code",
   "execution_count": 50,
   "metadata": {},
   "outputs": [
    {
     "name": "stdout",
     "output_type": "stream",
     "text": [
      "61200 - [6, 0]\n",
      "61400 - [13, 1]\n",
      "61600 - [1, 0]\n",
      "62000 - [0, 3]\n",
      "62200 - [1, 0]\n"
     ]
    }
   ],
   "source": [
    "i=0\n",
    "for k,v in bin_data.items():\n",
    "    i=i+1\n",
    "    if (i == 6):\n",
    "        break\n",
    "    print (\"%s - %s\" % (str(k), str(v)))"
   ]
  },
  {
   "cell_type": "code",
   "execution_count": 51,
   "metadata": {},
   "outputs": [
    {
     "name": "stdout",
     "output_type": "stream",
     "text": [
      "61200 - 2\n",
      "61400 - 3\n",
      "61600 - 1\n",
      "62000 - 3\n",
      "62200 - 1\n"
     ]
    }
   ],
   "source": [
    "i=0\n",
    "for k,v in bin_coverage.items():\n",
    "    i=i+1\n",
    "    if (i == 6):\n",
    "        break\n",
    "    print (\"%s - %s\" % (str(k), str(v)))"
   ]
  },
  {
   "cell_type": "markdown",
   "metadata": {},
   "source": []
  },
  {
   "cell_type": "code",
   "execution_count": 52,
   "metadata": {
    "collapsed": true
   },
   "outputs": [],
   "source": [
    "\n",
    "coords = []\n",
    "bin_names = []\n",
    "methylations = []\n",
    "cpgs_covered = []\n",
    "\n",
    "# Append bin data do lists so we can add them to the data frame\n",
    "sorted_keys = list(bin_data.keys())\n",
    "sorted_keys.sort()"
   ]
  },
  {
   "cell_type": "markdown",
   "metadata": {},
   "source": [
    "For each bin, calculate the coordinte for USCS GBrowser and percentage of average methylation."
   ]
  },
  {
   "cell_type": "code",
   "execution_count": 53,
   "metadata": {},
   "outputs": [
    {
     "name": "stdout",
     "output_type": "stream",
     "text": [
      "chr19_61200 61000 61200 chr19:61000-61200\n"
     ]
    }
   ],
   "source": [
    "#for _bin in sorted_keys:\n",
    "# Caclucate Coordinates\n",
    "_bin = sorted_keys[0]\n",
    "bin_name = chrm_name + \"_\" + str(_bin)\n",
    "bin_start_loc = _bin - bin_size\n",
    "bin_end_loc = _bin\n",
    "UCSC_browser_coordinates = chrm_name + \":\" + str(bin_start_loc) + \"-\" +  str(bin_end_loc)\n",
    "\n",
    "print(bin_name,bin_start_loc,bin_end_loc,UCSC_browser_coordinates)\n"
   ]
  },
  {
   "cell_type": "code",
   "execution_count": 54,
   "metadata": {},
   "outputs": [
    {
     "name": "stdout",
     "output_type": "stream",
     "text": [
      "[6, 0]\n",
      "100.0\n"
     ]
    }
   ],
   "source": [
    "# Calculate Methylation percentage\n",
    "bin_methylation_data = bin_data[_bin]\n",
    "print(bin_methylation_data)\n",
    "avg_methylation = 0\n",
    "if bin_methylation_data[0]+bin_methylation_data[1] != 0: # Denominator is not 0\n",
    "    avg_methylation  = 100.0*bin_methylation_data[0]/(bin_methylation_data[0]+bin_methylation_data[1])\n",
    "print(avg_methylation)"
   ]
  },
  {
   "cell_type": "code",
   "execution_count": 55,
   "metadata": {},
   "outputs": [
    {
     "data": {
      "text/plain": [
       "2"
      ]
     },
     "execution_count": 55,
     "metadata": {},
     "output_type": "execute_result"
    }
   ],
   "source": [
    "bin_coverage[_bin]"
   ]
  },
  {
   "cell_type": "markdown",
   "metadata": {},
   "source": [
    "Now, lets do this for all bins."
   ]
  },
  {
   "cell_type": "code",
   "execution_count": 56,
   "metadata": {
    "collapsed": true
   },
   "outputs": [],
   "source": [
    "\n",
    "sorted_keys = list(bin_data.keys())\n",
    "sorted_keys.sort()\n",
    "for _bin in sorted_keys:\n",
    "\n",
    "    # Coordinates\n",
    "    bin_name = chrm_name + \"_\" + str(_bin)\n",
    "    bin_start_loc = _bin - bin_size\n",
    "    bin_end_loc = _bin\n",
    "    UCSC_browser_coordinates = chrm_name + \":\" + str(bin_start_loc) + \"-\" +  str(bin_end_loc)\n",
    "\n",
    "    # Methylation percentage\n",
    "    bin_methylation_data = bin_data[_bin]\n",
    "    avg_methylation = 0\n",
    "    if bin_methylation_data[0]+bin_methylation_data[1] != 0: # Denominator is not 0\n",
    "        avg_methylation  = 100.0*bin_methylation_data[0]/(bin_methylation_data[0]+bin_methylation_data[1])\n",
    "\n",
    "    # Append data to lists\n",
    "    coords.append(UCSC_browser_coordinates)\n",
    "    bin_names.append(bin_name)\n",
    "    methylations.append(avg_methylation)\n",
    "    cpgs_covered.append(bin_coverage[_bin])\n"
   ]
  },
  {
   "cell_type": "code",
   "execution_count": 57,
   "metadata": {
    "collapsed": true
   },
   "outputs": [],
   "source": [
    "dataframe_data = {\"UCSC Browser Coordinates\":coords,\"Bin Name\":bin_names,\"Avg Methylation\":methylations,\"CpGs Covered\":cpgs_covered}\n",
    "df = pd.DataFrame.from_dict(dataframe_data)\n",
    "rearranged_cols = [\"UCSC Browser Coordinates\",\"Bin Name\",\"Avg Methylation\",\"CpGs Covered\"]\n",
    "df = df.reindex_axis(rearranged_cols, axis=1)"
   ]
  },
  {
   "cell_type": "code",
   "execution_count": 58,
   "metadata": {},
   "outputs": [
    {
     "data": {
      "text/html": [
       "<div>\n",
       "<style>\n",
       "    .dataframe thead tr:only-child th {\n",
       "        text-align: right;\n",
       "    }\n",
       "\n",
       "    .dataframe thead th {\n",
       "        text-align: left;\n",
       "    }\n",
       "\n",
       "    .dataframe tbody tr th {\n",
       "        vertical-align: top;\n",
       "    }\n",
       "</style>\n",
       "<table border=\"1\" class=\"dataframe\">\n",
       "  <thead>\n",
       "    <tr style=\"text-align: right;\">\n",
       "      <th></th>\n",
       "      <th>UCSC Browser Coordinates</th>\n",
       "      <th>Bin Name</th>\n",
       "      <th>Avg Methylation</th>\n",
       "      <th>CpGs Covered</th>\n",
       "    </tr>\n",
       "  </thead>\n",
       "  <tbody>\n",
       "    <tr>\n",
       "      <th>0</th>\n",
       "      <td>chr19:61000-61200</td>\n",
       "      <td>chr19_61200</td>\n",
       "      <td>100.000000</td>\n",
       "      <td>2</td>\n",
       "    </tr>\n",
       "    <tr>\n",
       "      <th>1</th>\n",
       "      <td>chr19:61200-61400</td>\n",
       "      <td>chr19_61400</td>\n",
       "      <td>92.857143</td>\n",
       "      <td>3</td>\n",
       "    </tr>\n",
       "    <tr>\n",
       "      <th>2</th>\n",
       "      <td>chr19:61400-61600</td>\n",
       "      <td>chr19_61600</td>\n",
       "      <td>100.000000</td>\n",
       "      <td>1</td>\n",
       "    </tr>\n",
       "    <tr>\n",
       "      <th>3</th>\n",
       "      <td>chr19:61800-62000</td>\n",
       "      <td>chr19_62000</td>\n",
       "      <td>0.000000</td>\n",
       "      <td>3</td>\n",
       "    </tr>\n",
       "    <tr>\n",
       "      <th>4</th>\n",
       "      <td>chr19:62000-62200</td>\n",
       "      <td>chr19_62200</td>\n",
       "      <td>100.000000</td>\n",
       "      <td>1</td>\n",
       "    </tr>\n",
       "    <tr>\n",
       "      <th>5</th>\n",
       "      <td>chr19:62600-62800</td>\n",
       "      <td>chr19_62800</td>\n",
       "      <td>0.000000</td>\n",
       "      <td>1</td>\n",
       "    </tr>\n",
       "    <tr>\n",
       "      <th>6</th>\n",
       "      <td>chr19:62800-63000</td>\n",
       "      <td>chr19_63000</td>\n",
       "      <td>81.818182</td>\n",
       "      <td>5</td>\n",
       "    </tr>\n",
       "    <tr>\n",
       "      <th>7</th>\n",
       "      <td>chr19:63000-63200</td>\n",
       "      <td>chr19_63200</td>\n",
       "      <td>85.294118</td>\n",
       "      <td>3</td>\n",
       "    </tr>\n",
       "    <tr>\n",
       "      <th>8</th>\n",
       "      <td>chr19:63200-63400</td>\n",
       "      <td>chr19_63400</td>\n",
       "      <td>80.000000</td>\n",
       "      <td>5</td>\n",
       "    </tr>\n",
       "    <tr>\n",
       "      <th>9</th>\n",
       "      <td>chr19:63400-63600</td>\n",
       "      <td>chr19_63600</td>\n",
       "      <td>100.000000</td>\n",
       "      <td>1</td>\n",
       "    </tr>\n",
       "  </tbody>\n",
       "</table>\n",
       "</div>"
      ],
      "text/plain": [
       "  UCSC Browser Coordinates     Bin Name  Avg Methylation  CpGs Covered\n",
       "0        chr19:61000-61200  chr19_61200       100.000000             2\n",
       "1        chr19:61200-61400  chr19_61400        92.857143             3\n",
       "2        chr19:61400-61600  chr19_61600       100.000000             1\n",
       "3        chr19:61800-62000  chr19_62000         0.000000             3\n",
       "4        chr19:62000-62200  chr19_62200       100.000000             1\n",
       "5        chr19:62600-62800  chr19_62800         0.000000             1\n",
       "6        chr19:62800-63000  chr19_63000        81.818182             5\n",
       "7        chr19:63000-63200  chr19_63200        85.294118             3\n",
       "8        chr19:63200-63400  chr19_63400        80.000000             5\n",
       "9        chr19:63400-63600  chr19_63600       100.000000             1"
      ]
     },
     "execution_count": 58,
     "metadata": {},
     "output_type": "execute_result"
    }
   ],
   "source": [
    "df.iloc[0:10]"
   ]
  },
  {
   "cell_type": "markdown",
   "metadata": {},
   "source": [
    "### 7.1 (Optional) Control for the number of CpG in each bin\n",
    "\n",
    "Based on reqirement a filter will be applied here to remove bins which has less than the user specified number of CpGs(ex.2)"
   ]
  },
  {
   "cell_type": "code",
   "execution_count": 59,
   "metadata": {
    "collapsed": true
   },
   "outputs": [],
   "source": [
    "CpG_cov = 2\n",
    "df_filterd = df[(df['CpGs Covered']>CpG_cov)]"
   ]
  },
  {
   "cell_type": "code",
   "execution_count": 77,
   "metadata": {
    "collapsed": true
   },
   "outputs": [],
   "source": [
    "df.to_csv(\"./sanity_check/C01_HF_chr19_1_Chathura.csv\",header= True)"
   ]
  },
  {
   "cell_type": "code",
   "execution_count": 17,
   "metadata": {},
   "outputs": [
    {
     "data": {
      "image/png": "[encoded data removed]",
      "text/plain": [
       "plot without title"
      ]
     },
     "metadata": {},
     "output_type": "display_data"
    }
   ],
   "source": [
    "library(ggplot2)\n",
    "\n",
    "#Coveravge file: chromosome\", \"position\", \"strand\", \"methylation percentage\", \"count methylated\", \"count unmethylated\n",
    "\n",
    "C01_HF_jack<-read.csv(\"./sanity_check/C01_HF_chr19_lane1_bins.csv\")\n",
    "C01_HF_Chathura <- read.csv(\"./sanity_check/C01_HF_chr19_1_Chathura.csv\")\n",
    "\n",
    "C01_HF_merge <- merge(C01_HF_Chathura,C01_HF_jack,by = \"Bin.Name\")\n",
    "plot(C01_HF_merge$Avg.Methylation.x,C01_HF_merge$Avg.Methylation.y,xlab=\"C01_HF__Chathura\",ylab=\"C01_HF_Jack\")\n",
    "legend(x='bottomright', legend=paste('Spearman Correlation =',round(cor(C01_HF_merge$Avg.Methylation.x,C01_HF_merge$Avg.Methylation.y),6)))\n",
    "\n"
   ]
  },
  {
   "cell_type": "code",
   "execution_count": null,
   "metadata": {
    "collapsed": true
   },
   "outputs": [],
   "source": [
    "CO1_HF<-read.csv(\"C01_HF_1_chr19.bismark.bins.csv\")\n",
    "ggplot(data=CO1_HF, aes(CO1_HF$Avg.Methylation)) + \n",
    "  geom_histogram(breaks=seq(0, 100, by =20), \n",
    "                 col=\"red\", \n",
    "                 aes(fill=..count..)) +\n",
    "  scale_fill_gradient(\"Count\", low = \"green\", high = \"red\") +\n",
    "  labs(title=\"C01_HF_Distribution of % methylation in Chr 19 using 200 bp bins\") +\n",
    "  labs(x=\"% methylation\", y=\"Count\")\n"
   ]
  },
  {
   "cell_type": "code",
   "execution_count": 19,
   "metadata": {},
   "outputs": [
    {
     "data": {},
     "metadata": {},
     "output_type": "display_data"
    },
    {
     "data": {
      "image/png": "[encoded data removed]",
      "text/plain": [
       "plot without title"
      ]
     },
     "metadata": {},
     "output_type": "display_data"
    }
   ],
   "source": [
    "CO1_HF<-read.csv(\"./sanity_check/C01_HF_chr19_1_Chathura.csv\")\n",
    "ggplot(data=CO1_HF, aes(CO1_HF$Avg.Methylation)) + \n",
    "  geom_histogram(breaks=seq(0, 100, by =10), \n",
    "                 col=\"red\", \n",
    "                 aes(fill=..count..)) +\n",
    "  scale_fill_gradient(\"Count\", low = \"green\", high = \"red\") +\n",
    "  labs(title=\"C01_HF_Distribution of % methylation in Chr 19 using 200 bp bins\") +\n",
    "  labs(x=\"% methylation\", y=\"Count\")\n"
   ]
  },
  {
   "cell_type": "code",
   "execution_count": 20,
   "metadata": {},
   "outputs": [
    {
     "data": {},
     "metadata": {},
     "output_type": "display_data"
    },
    {
     "data": {
      "image/png": "[encoded data removed]",
      "text/plain": [
       "plot without title"
      ]
     },
     "metadata": {},
     "output_type": "display_data"
    }
   ],
   "source": [
    "CO2_HF<-read.csv(\"./sanity_check/C02_HF_chr19_1_Chathura.csv\")\n",
    "ggplot(data=CO2_HF, aes(CO2_HF$Avg.Methylation)) + \n",
    "  geom_histogram(breaks=seq(0, 100, by =10), \n",
    "                 col=\"red\", \n",
    "                 aes(fill=..count..))+\n",
    "  scale_fill_gradient(\"Count\", low = \"green\", high = \"red\") +\n",
    "  labs(title=\"C02_HF_Distribution of % methylation in Chr 19 using 200 bp bins\") +\n",
    "  labs(x=\"% methylation\", y=\"Count\")\n"
   ]
  },
  {
   "cell_type": "code",
   "execution_count": 21,
   "metadata": {
    "collapsed": true
   },
   "outputs": [],
   "source": [
    "CO1_HF$X <-NULL\n",
    "CO2_HF$X <-NULL\n",
    "\n",
    "DF2d<-merge(CO1_HF,CO2_HF,by = \"Bin.Name\")"
   ]
  },
  {
   "cell_type": "code",
   "execution_count": 22,
   "metadata": {},
   "outputs": [
    {
     "data": {},
     "metadata": {},
     "output_type": "display_data"
    },
    {
     "data": {
      "image/png": "[encoded data removed]",
      "text/plain": [
       "plot without title"
      ]
     },
     "metadata": {},
     "output_type": "display_data"
    }
   ],
   "source": [
    "library(ggplot2)\n",
    "library(MASS)\n",
    "\n",
    "## layout settings for ggplot\n",
    "t2 <- theme(\n",
    "  axis.line = element_line(colour = \"black\"),\n",
    "  axis.text = element_text(colour = \"black\"),\n",
    "  axis.ticks = element_line(colour = \"black\"),\n",
    "  panel.grid.major.x = element_blank(),\n",
    "  panel.grid.minor.x = element_blank(),\n",
    "  panel.grid.major.y = element_blank(),\n",
    "  panel.grid.minor.y = element_blank(),\n",
    "  panel.border = element_blank(),\n",
    "  panel.background = element_blank()\n",
    ")\n",
    "\n",
    "\n",
    "## generate the \"z\" coordinate (density) just for the correct midpoint in the color gradient\n",
    "z <- kde2d(DF2d$Avg.Methylation.x, DF2d$Avg.Methylation.y,n = 4)\n",
    "\n",
    "ggplot(DF2d, aes(x=Avg.Methylation.x, y=Avg.Methylation.y)) +\n",
    "  stat_density2d(aes(fill=..density..), geom=\"tile\", contour=FALSE) +\n",
    "  scale_fill_gradient2(low=\"navyblue\", mid=\"yellow\", high=\"red\", midpoint=0.0015) +\n",
    "  ## limit scale ( density is calculated on the limited scale, all other points are removed from calculation)\n",
    "  #xlim(0,1) +\n",
    "  #ylim(0,1) +\n",
    "  ## limit view area ( density is calcluated on all points, no points removed )\n",
    "  coord_cartesian(xlim = c(0, 100), ylim=c(0,100)) +\n",
    "  xlab(\"C01 % Methylation\") +\n",
    "  ylab(\"C02 % Methylation\") +\n",
    "  ## add points to the density map (comment it if not desired)\n",
    "  geom_point(size=0.1, colour=\"white\",shape=1, alpha=0) +\n",
    "  ## make a line from (0,0) - (1,1)\n",
    "  #geom_segment(aes(x=0, y=0, xend=1, yend=1)) +\n",
    "  ## or just create a abline with slope 1 and intercept 0\n",
    "  #geom_abline() +\n",
    "  t2+\n",
    "  ggtitle(\"DNA methylation in HF in highly correlated accros two individuals\") +\n",
    "  theme(plot.title = element_text(hjust = 0.5))\n",
    "\n",
    "DF2d_HF<-DF2d\n",
    "DF2d_HF$Residual_HF <- DF2d_HF$Avg.Methylation.x - DF2d_HF$Avg.Methylation.y\n"
   ]
  },
  {
   "cell_type": "code",
   "execution_count": 24,
   "metadata": {},
   "outputs": [
    {
     "data": {},
     "metadata": {},
     "output_type": "display_data"
    },
    {
     "data": {
      "image/png": "[encoded data removed]",
      "text/plain": [
       "plot without title"
      ]
     },
     "metadata": {},
     "output_type": "display_data"
    }
   ],
   "source": [
    "CO1_PBL<-read.csv(\"./sanity_check/C01_PBL_chr19_1_Chathura.csv\")\n",
    "CO2_PBL<-read.csv(\"./sanity_check/C02_PBL_chr19_1_Chathura.csv\")\n",
    "\n",
    "DF2d_PBL<-merge(CO2_PBL,CO1_PBL,by = \"Bin.Name\")\n",
    "DF2d_PBL$Residual_PBL <- DF2d_PBL$Avg.Methylation.x - DF2d_PBL$Avg.Methylation.y\n",
    "DF2d_PBL$X.x <- NULL\n",
    "DF2d_PBL$X.y <- NULL\n",
    "\n",
    "\n",
    "residual <- merge(DF2d_PBL,DF2d_HF,by = \"Bin.Name\")\n",
    "\n",
    "\n",
    "z <- kde2d(residual$Residual_PBL, residual$Residual_HF,n = 4)\n",
    "\n",
    "ggplot(residual, aes(residual$Residual_PBL, y=residual$Residual_HF)) +\n",
    "  stat_density2d(aes(fill=..density..), geom=\"tile\", contour=FALSE) +\n",
    "  scale_fill_gradient2(low=\"darkgreen\", mid=\"yellow\", high=\"red\", midpoint=0.001) +\n",
    "  ## limit scale ( density is calculated on the limited scale, all other points are removed from calculation)\n",
    "  #xlim(0,1) +\n",
    "  #ylim(0,1) +\n",
    "  ## limit view area ( density is calcluated on all points, no points removed )\n",
    "  coord_cartesian(xlim = c(-100, 100), ylim=c(-100,100)) +\n",
    "  xlab(\"PBL residual\") +\n",
    "  ylab(\"HF residual\") +\n",
    "  ## add points to the density map (comment it if not desired)\n",
    "  geom_point(size=0.1, colour=\"white\",shape=1, alpha=0) +\n",
    "  ## make a line from (0,0) - (1,1)\n",
    "  #geom_segment(aes(x=0, y=0, xend=1, yend=1)) +\n",
    "  ## or just create a abline with slope 1 and intercept 0\n",
    "  #geom_abline() +\n",
    "  t2 + \n",
    "  ggtitle(\"Residuals (C01-C02) in HF vs PBL\") +\n",
    "  theme(plot.title = element_text(hjust = 0.5))\n",
    "\n"
   ]
  },
  {
   "cell_type": "code",
   "execution_count": null,
   "metadata": {
    "collapsed": true
   },
   "outputs": [],
   "source": []
  }
 ],
 "metadata": {
  "kernelspec": {
   "display_name": "R",
   "language": "R",
   "name": "ir"
  },
  "language_info": {
   "codemirror_mode": "r",
   "file_extension": ".r",
   "mimetype": "text/x-r-source",
   "name": "R",
   "pygments_lexer": "r",
   "version": "3.4.1"
  }
 },
 "nbformat": 4,
 "nbformat_minor": 2
}
