{
 "cells": [
  {
   "cell_type": "markdown",
   "metadata": {
    "collapsed": true
   },
   "source": [
    "## Independent genomewide screens identify the tumor suppressor VTRNA2-1 as a human epiallele responsive to periconceptional environment"
   ]
  },
  {
   "cell_type": "markdown",
   "metadata": {
    "collapsed": true
   },
   "source": [
    "## 1. Configure the same software tools and versions used by Jack Duryea. \n",
    "#### To do this .bash_rc file from /home/jduryea will be used\n",
    "\n",
    "##### The following output shows the .bash_rc paths that will be used for this analysis. This should render the output exactly similar to Jack's sample output file for CO1_HF_lane1\n"
   ]
  },
  {
   "cell_type": "markdown",
   "metadata": {},
   "source": [
    "```bash\n",
    "export PATH=$PATH:/home/noahk/bin/\n",
    "export PATH=$PATH:/home/noahk/bin/\n",
    "export PATH=$PATH:/home/jdong/miniconda2/bin\n",
    "export PATH=$PATH:/home/jdong/bismark_v0.16.3\n",
    "export PATH=$PATH:/home/noahk/software/cutadapt-1.8.3/bin\n",
    "export PATH=$PATH:/home/jdong/sratoolkit.2.8.1-centos_linux64/bin\n",
    "export PATH=$PATH:/home/noahk/jduryea/samstat-1.5.1/bin\n",
    "export PATH=$PATH:/home/coarfa/pkgs/java/bin\n",
    "export PATH=$PATH:/home/noahk/software/picard/bin\n",
    "export PATH=$PATH:/home/coarfa/pkgs/java/picard/picard.jar\n",
    "export PATH=$PATH:/home/coarfa/pkgs/picardtools-2.9.0/picard.jar\n",
    "export PATH=$PATH:/home/coarfa/pkgs/picard/picard.jar\n",
    "export JAVA_HOME=/home/coarfa/pkgs/java\n",
    "export PATH=$JAVA_HOME/bin:$PATH\n",
    "export PATH=$PATH:/home/coarfa/pkgs/picardtools-2.9.0\n",
    "export PATH=$PATH:/home/coarfa/pkgs/java/picard\n",
    "export PATH=$PATH:/home/jduryea/trim_galore_v0.4.4\n",
    "export PATH=$PATH:/home/jduryea\n",
    "export PATH=$PATH:/home/noahk/software/FastQC/bin\n",
    "export PATH=$PATH:/home/noahk/software/trim_galore_v0.4.4\n",
    "export PATH=$PATH:/home/jduryea/bin/bamtools/bin\n",
    "export PATH=$PATH:/home/jduryea/bin/biscuit-release\n",
    "export PATH=$PATH:~/.local/bin\n",
    "```"
   ]
  },
  {
   "cell_type": "markdown",
   "metadata": {},
   "source": [
    "## 2. Download data from SRA\n",
    "\n",
    "The Gene Expression Omnibus (GEO) accession number for the raw sequence reads for the four Bisulfite-seq libraries is GSE44806."
   ]
  },
  {
   "cell_type": "markdown",
   "metadata": {},
   "source": [
    "```bash\n",
    "#!/bin/sh\n",
    "\n",
    "#SBATCH --time=24:00:00\n",
    "#SBATCH -n4\n",
    "#SBATCH -p dque\n",
    "\n",
    "starttime=$(date +\"%s\")\n",
    "echo $(date -u -d @${starttime})\n",
    "echo \"options: --time=24:00:00 -n4 -p dque\"\n",
    "echo \"$0\"\n",
    "\n",
    "for i in 1 2 3 4 5 6 7 8 9\n",
    "do\n",
    "    ftp://ftp-trace.ncbi.nlm.nih.gov/sra/sra-instant/reads/ByExp/sra/SRX/SRX248/SRX248434/SRR77140\"${i}\"/SRR77140\"${i}\".sra\n",
    "    fastq-dump --split-files SRR77140\"${i}\".sra\n",
    "done\n",
    "\n",
    "for i in 10 11 12\n",
    "do\n",
    "    ftp://ftp-trace.ncbi.nlm.nih.gov/sra/sra-instant/reads/ByExp/sra/SRX/SRX248/SRX248434/SRR7714\"${i}\"/SRR7714\"${i}\".sra\n",
    "    fastq-dump --split-files SRR7714\"${i}\".sra\n",
    "done\n",
    "\n",
    "endtime=$(date +\"%s\")\n",
    "echo $(date -u -d @${endtime})\n",
    "echo \"Time elapsed\" $(date -u -d @$(($endtime-$starttime)) +\"%T\")\n",
    "```"
   ]
  },
  {
   "cell_type": "markdown",
   "metadata": {
    "collapsed": true
   },
   "source": [
    "### For the demonstration purpose C01_HF_lane_1.fastq file will be used."
   ]
  },
  {
   "cell_type": "markdown",
   "metadata": {},
   "source": [
    "## 3. Quality control using Trim_glore software"
   ]
  },
  {
   "cell_type": "code",
   "execution_count": 28,
   "metadata": {
    "collapsed": true
   },
   "outputs": [],
   "source": [
    "from operator import add\n",
    "import pandas as pd\n",
    "import numpy as np\n",
    "import os\n",
    "import sys\n",
    "from collections import defaultdict\n",
    "filename = \"../data/VTRNA2-1/create_plots/C01_HF_1_chr19.bismark.cov\"\n",
    "bin_size = 200"
   ]
  },
  {
   "cell_type": "code",
   "execution_count": 29,
   "metadata": {
    "collapsed": true
   },
   "outputs": [],
   "source": [
    "df_cov = pd.read_table(filename,header=None)"
   ]
  },
  {
   "cell_type": "code",
   "execution_count": 30,
   "metadata": {
    "collapsed": true
   },
   "outputs": [],
   "source": [
    "df_cov.columns = ['Chromosome','Position','End','Perc','Methylated','Unmethylated']"
   ]
  },
  {
   "cell_type": "code",
   "execution_count": 31,
   "metadata": {
    "collapsed": true
   },
   "outputs": [],
   "source": [
    "df_cov = df_cov.iloc[:,-6:]"
   ]
  },
  {
   "cell_type": "code",
   "execution_count": 36,
   "metadata": {
    "collapsed": true
   },
   "outputs": [],
   "source": [
    "df_cov = df_cov.sort_values(['Chromosome', 'Position'], ascending=[True, True])"
   ]
  },
  {
   "cell_type": "code",
   "execution_count": 37,
   "metadata": {
    "collapsed": true
   },
   "outputs": [],
   "source": [
    "df_cov = df_cov.reset_index(drop=True)"
   ]
  },
  {
   "cell_type": "code",
   "execution_count": 60,
   "metadata": {
    "collapsed": true
   },
   "outputs": [],
   "source": [
    "bin_coverage = defaultdict(lambda:0)\n",
    "bin_data = defaultdict(lambda:[0,0]) # Mapping from bin number to a tuple consisting of #methylated reads and #unmethy. reads"
   ]
  },
  {
   "cell_type": "code",
   "execution_count": null,
   "metadata": {
    "collapsed": true
   },
   "outputs": [],
   "source": []
  },
  {
   "cell_type": "markdown",
   "metadata": {},
   "source": [
    "### Detailed description of coverage file\n",
    "--Chromosome-- --start_position-- --end_position-- --methylation_percentage-- --count_methylated-- --count_unmethylated--\n",
    "\n",
    "The first line of the coverage file looks like follows;\n"
   ]
  },
  {
   "cell_type": "code",
   "execution_count": 55,
   "metadata": {},
   "outputs": [
    {
     "name": "stdout",
     "output_type": "stream",
     "text": [
      "  Chromosome  Position    End        Perc  Methylated  Unmethylated\n",
      "0      chr19     61198  61198  100.000000           3             0\n",
      "1      chr19     61291  61291  100.000000           8             0\n",
      "2      chr19     61380  61380   66.666667           2             1\n",
      "3      chr19     61396  61396  100.000000           3             0\n",
      "4      chr19     61496  61496  100.000000           1             0\n",
      "5      chr19     61835  61835    0.000000           0             1\n",
      "6      chr19     61842  61842    0.000000           0             1\n",
      "7      chr19     61861  61861    0.000000           0             1\n",
      "8      chr19     62198  62198  100.000000           1             0\n",
      "9      chr19     62748  62748    0.000000           0             1\n"
     ]
    }
   ],
   "source": [
    "print (df_cov.iloc[0:10])"
   ]
  },
  {
   "cell_type": "markdown",
   "metadata": {},
   "source": [
    "### Position\n",
    "The Position indicate the start location of the methylated citosine base (CG) in chromose-wise (by default). There is an option in methylation extractor to specify otherwise. (Check if this is correct ?)\n",
    "\n",
    "### End\n",
    "The end position of the citosine base. Its the same as the start because its one base.\n",
    "\n",
    "### Methylation Percentage\n",
    "This percentage represent the actual read coverage of detected methylated or unmethylated reads at a position.\n",
    "\n",
    "\n",
    "### count methylated\n",
    "out of the aligned reads, how many reads say its methylated CG\n",
    "\n",
    "### count unmethylated\n",
    "out of the aligned reads, how many reads says its unmethylated CG\n"
   ]
  },
  {
   "cell_type": "code",
   "execution_count": 56,
   "metadata": {
    "collapsed": true
   },
   "outputs": [],
   "source": [
    "line = df_cov.iloc[0]"
   ]
  },
  {
   "cell_type": "code",
   "execution_count": 57,
   "metadata": {
    "collapsed": true,
    "scrolled": true
   },
   "outputs": [],
   "source": [
    "# How to create the first bin\n",
    "chrm_name = str(line[\"Chromosome\"])\n",
    "start = int(line[\"Position\"])\n",
    "end = int(line[\"End\"])\n",
    "num_methylated_reads = line[\"Methylated\"]\n",
    "num_unmethylated_reads = line[\"Unmethylated\"]"
   ]
  },
  {
   "cell_type": "code",
   "execution_count": 58,
   "metadata": {},
   "outputs": [
    {
     "name": "stdout",
     "output_type": "stream",
     "text": [
      "305\n"
     ]
    }
   ],
   "source": [
    "bin_number = (start-1)//bin_size # Using integer division is the key here\n",
    "print (bin_number)"
   ]
  },
  {
   "cell_type": "code",
   "execution_count": 59,
   "metadata": {},
   "outputs": [
    {
     "name": "stdout",
     "output_type": "stream",
     "text": [
      "61200\n"
     ]
    }
   ],
   "source": [
    "bin_label = (bin_number*bin_size) + bin_size\n",
    "print (bin_label)"
   ]
  },
  {
   "cell_type": "markdown",
   "metadata": {},
   "source": [
    "This creates the first bin"
   ]
  },
  {
   "cell_type": "code",
   "execution_count": 45,
   "metadata": {
    "collapsed": true
   },
   "outputs": [],
   "source": [
    "bin_data[bin_label] = list(map(add, bin_data[bin_label], [num_methylated_reads,num_unmethylated_reads]))\n",
    "bin_coverage[bin_label] += 1"
   ]
  },
  {
   "cell_type": "code",
   "execution_count": 53,
   "metadata": {},
   "outputs": [
    {
     "data": {
      "text/plain": [
       "dict_items([(61200, [3, 0])])"
      ]
     },
     "execution_count": 53,
     "metadata": {},
     "output_type": "execute_result"
    }
   ],
   "source": [
    "bin_data.items()"
   ]
  },
  {
   "cell_type": "code",
   "execution_count": 54,
   "metadata": {},
   "outputs": [
    {
     "data": {
      "text/plain": [
       "dict_items([(61200, 1)])"
      ]
     },
     "execution_count": 54,
     "metadata": {},
     "output_type": "execute_result"
    }
   ],
   "source": [
    "bin_coverage.items()"
   ]
  },
  {
   "cell_type": "markdown",
   "metadata": {},
   "source": [
    "read the next line from the cov file\n",
    "    if CG belongs to the first bin \n",
    "        then add to that bin. \n",
    "    else \n",
    "        create the next bin.\n",
    "        \n",
    " Do this for all lines in the coverage file."
   ]
  },
  {
   "cell_type": "code",
   "execution_count": 61,
   "metadata": {
    "collapsed": true
   },
   "outputs": [],
   "source": [
    "for index, line in df_cov.iterrows():\n",
    "    # Split line into components\n",
    "    chrm_name = str(line[\"Chromosome\"])\n",
    "    start = int(line[\"Position\"])\n",
    "    end = int(line[\"End\"])\n",
    "\n",
    "    num_methylated_reads = line[\"Methylated\"]\n",
    "    num_unmethylated_reads = line[\"Unmethylated\"]\n",
    "\n",
    "    bin_number = (start-1)//bin_size # Using integer division is the key here\n",
    "    bin_label = (bin_number*bin_size) + bin_size\n",
    "\n",
    "    bin_data[bin_label] = list(map(add, bin_data[bin_label], [num_methylated_reads,num_unmethylated_reads]))\n",
    "    bin_coverage[bin_label] += 1"
   ]
  },
  {
   "cell_type": "code",
   "execution_count": 73,
   "metadata": {},
   "outputs": [
    {
     "name": "stdout",
     "output_type": "stream",
     "text": [
      "61200 - [3, 0]\n",
      "61400 - [13, 1]\n",
      "61600 - [1, 0]\n",
      "62000 - [0, 3]\n",
      "62200 - [1, 0]\n"
     ]
    }
   ],
   "source": [
    "i=0\n",
    "for k,v in bin_data.items():\n",
    "    i=i+1\n",
    "    if (i == 6):\n",
    "        break\n",
    "    print (\"%s - %s\" % (str(k), str(v)))"
   ]
  },
  {
   "cell_type": "raw",
   "metadata": {},
   "source": [
    "Interpretation:\n",
    "First bin has one CpG withing 61100-61200 (61198)\n",
    "0      chr19     61198  61198  100.000000           3             0\n",
    "\n",
    "\n",
    "Second bin has three CpGs within 61200-61400 (61291,61380,61396)\n",
    "\n",
    "1      chr19     61291  61291  100.000000           8             0\n",
    "2      chr19     61380  61380   66.666667           2             1\n",
    "3      chr19     61396  61396  100.000000           3             0"
   ]
  },
  {
   "cell_type": "code",
   "execution_count": 72,
   "metadata": {},
   "outputs": [
    {
     "name": "stdout",
     "output_type": "stream",
     "text": [
      "61200 - 1\n",
      "61400 - 3\n",
      "61600 - 1\n",
      "62000 - 3\n",
      "62200 - 1\n"
     ]
    }
   ],
   "source": [
    "i=0\n",
    "for k,v in bin_coverage.items():\n",
    "    i=i+1\n",
    "    if (i == 6):\n",
    "        break\n",
    "    print (\"%s - %s\" % (str(k), str(v)))"
   ]
  },
  {
   "cell_type": "code",
   "execution_count": 74,
   "metadata": {
    "collapsed": true
   },
   "outputs": [],
   "source": [
    "coords = []\n",
    "bin_names = []\n",
    "methylations = []\n",
    "cpgs_covered = []\n",
    "\n",
    "# Append bin data do lists so we can add them to the data frame\n",
    "sorted_keys = list(bin_data.keys())\n",
    "sorted_keys.sort()\n"
   ]
  },
  {
   "cell_type": "markdown",
   "metadata": {},
   "source": [
    "For each bin, calculate the coordinte for USCS GBrowser and percentage of average methylation."
   ]
  },
  {
   "cell_type": "code",
   "execution_count": 85,
   "metadata": {},
   "outputs": [
    {
     "name": "stdout",
     "output_type": "stream",
     "text": [
      "chr19_61200 61000 61200 chr19:61000-61200\n"
     ]
    }
   ],
   "source": [
    "#for _bin in sorted_keys:\n",
    "# Caclucate Coordinates\n",
    "_bin = sorted_keys[0]\n",
    "bin_name = chrm_name + \"_\" + str(_bin)\n",
    "bin_start_loc = _bin - bin_size\n",
    "bin_end_loc = _bin\n",
    "UCSC_browser_coordinates = chrm_name + \":\" + str(bin_start_loc) + \"-\" +  str(bin_end_loc)\n",
    "\n",
    "print(bin_name,bin_start_loc,bin_end_loc,UCSC_browser_coordinates)\n"
   ]
  },
  {
   "cell_type": "code",
   "execution_count": 86,
   "metadata": {},
   "outputs": [
    {
     "name": "stdout",
     "output_type": "stream",
     "text": [
      "[3, 0]\n",
      "100.0\n"
     ]
    }
   ],
   "source": [
    "# Calculate Methylation percentage\n",
    "bin_methylation_data = bin_data[_bin]\n",
    "print(bin_methylation_data)\n",
    "avg_methylation = 0\n",
    "if bin_methylation_data[0]+bin_methylation_data[1] != 0: # Denominator is not 0\n",
    "    avg_methylation  = 100.0*bin_methylation_data[0]/(bin_methylation_data[0]+bin_methylation_data[1])\n",
    "print(avg_methylation)"
   ]
  },
  {
   "cell_type": "code",
   "execution_count": 87,
   "metadata": {},
   "outputs": [
    {
     "data": {
      "text/plain": [
       "1"
      ]
     },
     "execution_count": 87,
     "metadata": {},
     "output_type": "execute_result"
    }
   ],
   "source": [
    "bin_coverage[_bin]"
   ]
  },
  {
   "cell_type": "markdown",
   "metadata": {},
   "source": [
    "Now, lets do this for all bins."
   ]
  },
  {
   "cell_type": "code",
   "execution_count": 89,
   "metadata": {
    "collapsed": true
   },
   "outputs": [],
   "source": [
    "\n",
    "sorted_keys = list(bin_data.keys())\n",
    "sorted_keys.sort()\n",
    "for _bin in sorted_keys:\n",
    "\n",
    "    # Coordinates\n",
    "    bin_name = chrm_name + \"_\" + str(_bin)\n",
    "    bin_start_loc = _bin - bin_size\n",
    "    bin_end_loc = _bin\n",
    "    UCSC_browser_coordinates = chrm_name + \":\" + str(bin_start_loc) + \"-\" +  str(bin_end_loc)\n",
    "\n",
    "    # Methylation percentage\n",
    "    bin_methylation_data = bin_data[_bin]\n",
    "    avg_methylation = 0\n",
    "    if bin_methylation_data[0]+bin_methylation_data[1] != 0: # Denominator is not 0\n",
    "        avg_methylation  = 100.0*bin_methylation_data[0]/(bin_methylation_data[0]+bin_methylation_data[1])\n",
    "\n",
    "    # Append data to lists\n",
    "    coords.append(UCSC_browser_coordinates)\n",
    "    bin_names.append(bin_name)\n",
    "    methylations.append(avg_methylation)\n",
    "    cpgs_covered.append(bin_coverage[_bin])\n"
   ]
  },
  {
   "cell_type": "code",
   "execution_count": 90,
   "metadata": {
    "collapsed": true
   },
   "outputs": [],
   "source": [
    "dataframe_data = {\"UCSC Browser Coordinates\":coords,\"Bin Name\":bin_names,\"Avg Methylation\":methylations,\"CpGs Covered\":cpgs_covered}\n",
    "df = pd.DataFrame.from_dict(dataframe_data)\n",
    "rearranged_cols = [\"UCSC Browser Coordinates\",\"Bin Name\",\"Avg Methylation\",\"CpGs Covered\"]\n",
    "df = df.reindex_axis(rearranged_cols, axis=1)"
   ]
  },
  {
   "cell_type": "code",
   "execution_count": 93,
   "metadata": {},
   "outputs": [
    {
     "data": {
      "text/html": [
       "<div>\n",
       "<style>\n",
       "    .dataframe thead tr:only-child th {\n",
       "        text-align: right;\n",
       "    }\n",
       "\n",
       "    .dataframe thead th {\n",
       "        text-align: left;\n",
       "    }\n",
       "\n",
       "    .dataframe tbody tr th {\n",
       "        vertical-align: top;\n",
       "    }\n",
       "</style>\n",
       "<table border=\"1\" class=\"dataframe\">\n",
       "  <thead>\n",
       "    <tr style=\"text-align: right;\">\n",
       "      <th></th>\n",
       "      <th>UCSC Browser Coordinates</th>\n",
       "      <th>Bin Name</th>\n",
       "      <th>Avg Methylation</th>\n",
       "      <th>CpGs Covered</th>\n",
       "    </tr>\n",
       "  </thead>\n",
       "  <tbody>\n",
       "    <tr>\n",
       "      <th>0</th>\n",
       "      <td>chr19:61000-61200</td>\n",
       "      <td>chr19_61200</td>\n",
       "      <td>100.000000</td>\n",
       "      <td>1</td>\n",
       "    </tr>\n",
       "    <tr>\n",
       "      <th>1</th>\n",
       "      <td>chr19:61200-61400</td>\n",
       "      <td>chr19_61400</td>\n",
       "      <td>92.857143</td>\n",
       "      <td>3</td>\n",
       "    </tr>\n",
       "    <tr>\n",
       "      <th>2</th>\n",
       "      <td>chr19:61400-61600</td>\n",
       "      <td>chr19_61600</td>\n",
       "      <td>100.000000</td>\n",
       "      <td>1</td>\n",
       "    </tr>\n",
       "    <tr>\n",
       "      <th>3</th>\n",
       "      <td>chr19:61800-62000</td>\n",
       "      <td>chr19_62000</td>\n",
       "      <td>0.000000</td>\n",
       "      <td>3</td>\n",
       "    </tr>\n",
       "    <tr>\n",
       "      <th>4</th>\n",
       "      <td>chr19:62000-62200</td>\n",
       "      <td>chr19_62200</td>\n",
       "      <td>100.000000</td>\n",
       "      <td>1</td>\n",
       "    </tr>\n",
       "    <tr>\n",
       "      <th>5</th>\n",
       "      <td>chr19:62600-62800</td>\n",
       "      <td>chr19_62800</td>\n",
       "      <td>0.000000</td>\n",
       "      <td>1</td>\n",
       "    </tr>\n",
       "    <tr>\n",
       "      <th>6</th>\n",
       "      <td>chr19:62800-63000</td>\n",
       "      <td>chr19_63000</td>\n",
       "      <td>81.818182</td>\n",
       "      <td>5</td>\n",
       "    </tr>\n",
       "    <tr>\n",
       "      <th>7</th>\n",
       "      <td>chr19:63000-63200</td>\n",
       "      <td>chr19_63200</td>\n",
       "      <td>85.294118</td>\n",
       "      <td>3</td>\n",
       "    </tr>\n",
       "    <tr>\n",
       "      <th>8</th>\n",
       "      <td>chr19:63200-63400</td>\n",
       "      <td>chr19_63400</td>\n",
       "      <td>80.000000</td>\n",
       "      <td>5</td>\n",
       "    </tr>\n",
       "    <tr>\n",
       "      <th>9</th>\n",
       "      <td>chr19:63400-63600</td>\n",
       "      <td>chr19_63600</td>\n",
       "      <td>100.000000</td>\n",
       "      <td>1</td>\n",
       "    </tr>\n",
       "  </tbody>\n",
       "</table>\n",
       "</div>"
      ],
      "text/plain": [
       "  UCSC Browser Coordinates     Bin Name  Avg Methylation  CpGs Covered\n",
       "0        chr19:61000-61200  chr19_61200       100.000000             1\n",
       "1        chr19:61200-61400  chr19_61400        92.857143             3\n",
       "2        chr19:61400-61600  chr19_61600       100.000000             1\n",
       "3        chr19:61800-62000  chr19_62000         0.000000             3\n",
       "4        chr19:62000-62200  chr19_62200       100.000000             1\n",
       "5        chr19:62600-62800  chr19_62800         0.000000             1\n",
       "6        chr19:62800-63000  chr19_63000        81.818182             5\n",
       "7        chr19:63000-63200  chr19_63200        85.294118             3\n",
       "8        chr19:63200-63400  chr19_63400        80.000000             5\n",
       "9        chr19:63400-63600  chr19_63600       100.000000             1"
      ]
     },
     "execution_count": 93,
     "metadata": {},
     "output_type": "execute_result"
    }
   ],
   "source": [
    "df.iloc[0:10]"
   ]
  },
  {
   "cell_type": "code",
   "execution_count": 94,
   "metadata": {
    "collapsed": true
   },
   "outputs": [],
   "source": [
    "\n",
    "df_jack = pd.read_csv(\"../data/VTRNA2-1/c01-hf/C01_HF_chr19_lane1_bins_Jack.csv\")"
   ]
  },
  {
   "cell_type": "code",
   "execution_count": 96,
   "metadata": {},
   "outputs": [
    {
     "data": {
      "text/html": [
       "<div>\n",
       "<style>\n",
       "    .dataframe thead tr:only-child th {\n",
       "        text-align: right;\n",
       "    }\n",
       "\n",
       "    .dataframe thead th {\n",
       "        text-align: left;\n",
       "    }\n",
       "\n",
       "    .dataframe tbody tr th {\n",
       "        vertical-align: top;\n",
       "    }\n",
       "</style>\n",
       "<table border=\"1\" class=\"dataframe\">\n",
       "  <thead>\n",
       "    <tr style=\"text-align: right;\">\n",
       "      <th></th>\n",
       "      <th>UCSC Browser Coordinates</th>\n",
       "      <th>Bin Name</th>\n",
       "      <th>Avg Methylation</th>\n",
       "      <th>CpGs Covered</th>\n",
       "    </tr>\n",
       "  </thead>\n",
       "  <tbody>\n",
       "    <tr>\n",
       "      <th>0</th>\n",
       "      <td>chr19:61000-61200</td>\n",
       "      <td>chr19_61200</td>\n",
       "      <td>100.000000</td>\n",
       "      <td>1</td>\n",
       "    </tr>\n",
       "    <tr>\n",
       "      <th>1</th>\n",
       "      <td>chr19:61200-61400</td>\n",
       "      <td>chr19_61400</td>\n",
       "      <td>92.857143</td>\n",
       "      <td>3</td>\n",
       "    </tr>\n",
       "    <tr>\n",
       "      <th>2</th>\n",
       "      <td>chr19:61400-61600</td>\n",
       "      <td>chr19_61600</td>\n",
       "      <td>100.000000</td>\n",
       "      <td>1</td>\n",
       "    </tr>\n",
       "    <tr>\n",
       "      <th>3</th>\n",
       "      <td>chr19:61800-62000</td>\n",
       "      <td>chr19_62000</td>\n",
       "      <td>0.000000</td>\n",
       "      <td>3</td>\n",
       "    </tr>\n",
       "    <tr>\n",
       "      <th>4</th>\n",
       "      <td>chr19:62000-62200</td>\n",
       "      <td>chr19_62200</td>\n",
       "      <td>100.000000</td>\n",
       "      <td>1</td>\n",
       "    </tr>\n",
       "    <tr>\n",
       "      <th>5</th>\n",
       "      <td>chr19:62600-62800</td>\n",
       "      <td>chr19_62800</td>\n",
       "      <td>0.000000</td>\n",
       "      <td>1</td>\n",
       "    </tr>\n",
       "    <tr>\n",
       "      <th>6</th>\n",
       "      <td>chr19:62800-63000</td>\n",
       "      <td>chr19_63000</td>\n",
       "      <td>81.818182</td>\n",
       "      <td>5</td>\n",
       "    </tr>\n",
       "    <tr>\n",
       "      <th>7</th>\n",
       "      <td>chr19:63000-63200</td>\n",
       "      <td>chr19_63200</td>\n",
       "      <td>85.294118</td>\n",
       "      <td>3</td>\n",
       "    </tr>\n",
       "    <tr>\n",
       "      <th>8</th>\n",
       "      <td>chr19:63200-63400</td>\n",
       "      <td>chr19_63400</td>\n",
       "      <td>80.000000</td>\n",
       "      <td>5</td>\n",
       "    </tr>\n",
       "    <tr>\n",
       "      <th>9</th>\n",
       "      <td>chr19:63400-63600</td>\n",
       "      <td>chr19_63600</td>\n",
       "      <td>100.000000</td>\n",
       "      <td>1</td>\n",
       "    </tr>\n",
       "  </tbody>\n",
       "</table>\n",
       "</div>"
      ],
      "text/plain": [
       "  UCSC Browser Coordinates     Bin Name  Avg Methylation  CpGs Covered\n",
       "0        chr19:61000-61200  chr19_61200       100.000000             1\n",
       "1        chr19:61200-61400  chr19_61400        92.857143             3\n",
       "2        chr19:61400-61600  chr19_61600       100.000000             1\n",
       "3        chr19:61800-62000  chr19_62000         0.000000             3\n",
       "4        chr19:62000-62200  chr19_62200       100.000000             1\n",
       "5        chr19:62600-62800  chr19_62800         0.000000             1\n",
       "6        chr19:62800-63000  chr19_63000        81.818182             5\n",
       "7        chr19:63000-63200  chr19_63200        85.294118             3\n",
       "8        chr19:63200-63400  chr19_63400        80.000000             5\n",
       "9        chr19:63400-63600  chr19_63600       100.000000             1"
      ]
     },
     "execution_count": 96,
     "metadata": {},
     "output_type": "execute_result"
    }
   ],
   "source": [
    "df_jack.iloc[0:10]"
   ]
  },
  {
   "cell_type": "code",
   "execution_count": null,
   "metadata": {
    "collapsed": true
   },
   "outputs": [],
   "source": []
  }
 ],
 "metadata": {
  "kernelspec": {
   "display_name": "Python 3",
   "language": "python",
   "name": "python3"
  },
  "language_info": {
   "codemirror_mode": {
    "name": "ipython",
    "version": 3
   },
   "file_extension": ".py",
   "mimetype": "text/x-python",
   "name": "python",
   "nbconvert_exporter": "python",
   "pygments_lexer": "ipython3",
   "version": "3.6.1"
  }
 },
 "nbformat": 4,
 "nbformat_minor": 2
}
