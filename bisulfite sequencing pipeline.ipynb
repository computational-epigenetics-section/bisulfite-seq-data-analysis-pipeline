{
 "cells": [
  {
   "cell_type": "markdown",
   "metadata": {
    "collapsed": true
   },
   "source": [
    "## Independent genomewide screens identify the tumor suppressor VTRNA2-1 as a human epiallele responsive to periconceptional environment"
   ]
  },
  {
   "cell_type": "markdown",
   "metadata": {},
   "source": [
    "# 1. Configure the same software tools and versions used by Jack Duryea. \n",
    "#### To do this .bash_rc file from /home/jduryea will be used\n",
    "\n",
    "##### The following output shows the .bash_rc paths that will be used for this analysis. This should render the output exactly similar to Jack's sample output file for CO1_HF_lane1\n",
    "\n",
    "\n",
    "```bash\n",
    "export PATH=$PATH:/home/noahk/bin/\n",
    "export PATH=$PATH:/home/noahk/bin/\n",
    "export PATH=$PATH:/home/jdong/miniconda2/bin\n",
    "export PATH=$PATH:/home/jdong/bismark_v0.16.3\n",
    "export PATH=$PATH:/home/noahk/software/cutadapt-1.8.3/bin\n",
    "export PATH=$PATH:/home/jdong/sratoolkit.2.8.1-centos_linux64/bin\n",
    "export PATH=$PATH:/home/noahk/jduryea/samstat-1.5.1/bin\n",
    "export PATH=$PATH:/home/coarfa/pkgs/java/bin\n",
    "export PATH=$PATH:/home/noahk/software/picard/bin\n",
    "export PATH=$PATH:/home/coarfa/pkgs/java/picard/picard.jar\n",
    "export PATH=$PATH:/home/coarfa/pkgs/picardtools-2.9.0/picard.jar\n",
    "export PATH=$PATH:/home/coarfa/pkgs/picard/picard.jar\n",
    "export JAVA_HOME=/home/coarfa/pkgs/java\n",
    "export PATH=$JAVA_HOME/bin:$PATH\n",
    "export PATH=$PATH:/home/coarfa/pkgs/picardtools-2.9.0\n",
    "export PATH=$PATH:/home/coarfa/pkgs/java/picard\n",
    "export PATH=$PATH:/home/jduryea/trim_galore_v0.4.4\n",
    "export PATH=$PATH:/home/jduryea\n",
    "export PATH=$PATH:/home/noahk/software/FastQC/bin\n",
    "export PATH=$PATH:/home/noahk/software/trim_galore_v0.4.4\n",
    "export PATH=$PATH:/home/jduryea/bin/bamtools/bin\n",
    "export PATH=$PATH:/home/jduryea/bin/biscuit-release\n",
    "export PATH=$PATH:~/.local/bin\n",
    "```"
   ]
  },
  {
   "cell_type": "markdown",
   "metadata": {},
   "source": [
    "# 2. Download data from SRA\n",
    "\n",
    "The Gene Expression Omnibus (GEO) accession number for the raw sequence reads for the four Bisulfite-seq libraries is GSE44806.\n",
    "\n",
    "- --split-files: This option in the fastq-dump tool, split the SRA file in to fastq file with read1.fq and read2.fq\n",
    "\n",
    "\n",
    "```bash\n",
    "#!/bin/sh\n",
    "\n",
    "#SBATCH --time=24:00:00\n",
    "#SBATCH -n4\n",
    "#SBATCH -p dque\n",
    "\n",
    "starttime=$(date +\"%s\")\n",
    "echo $(date -u -d @${starttime})\n",
    "echo \"options: --time=24:00:00 -n4 -p dque\"\n",
    "echo \"$0\"\n",
    "\n",
    "for i in 1 2 3 4 5 6 7 8 9\n",
    "do\n",
    "    ftp://ftp-trace.ncbi.nlm.nih.gov/sra/sra-instant/reads/ByExp/sra/SRX/SRX248/SRX248434/SRR77140\"${i}\"/SRR77140\"${i}\".sra\n",
    "    fastq-dump --split-files SRR77140\"${i}\".sra\n",
    "done\n",
    "\n",
    "for i in 10 11 12\n",
    "do\n",
    "    ftp://ftp-trace.ncbi.nlm.nih.gov/sra/sra-instant/reads/ByExp/sra/SRX/SRX248/SRX248434/SRR7714\"${i}\"/SRR7714\"${i}\".sra\n",
    "    fastq-dump --split-files SRR7714\"${i}\".sra\n",
    "done\n",
    "\n",
    "endtime=$(date +\"%s\")\n",
    "echo $(date -u -d @${endtime})\n",
    "echo \"Time elapsed\" $(date -u -d @$(($endtime-$starttime)) +\"%T\")\n",
    "```"
   ]
  },
  {
   "cell_type": "markdown",
   "metadata": {
    "collapsed": true
   },
   "source": [
    "## For the demonstration and comparison  SRR771401.fastq file will be used."
   ]
  },
  {
   "cell_type": "markdown",
   "metadata": {},
   "source": [
    "# 3. Quality control using trim_glore software\n",
    "\n",
    "Trim Galore! is a wrapper script to automate quality and adapter trimming as well as quality control.\n",
    "This software automatically\n",
    "- removes base calls with a Phred score of 20 or lower (assuming Sanger encoding)\n",
    "- removes any signs of the Illumina adapter sequence from the 3' end (AGATCGGAAGAGC)\n",
    "- removes sequences that got shorter than 20 bp\n",
    "\n",
    "\n",
    " ```bash\n",
    "#!/bin/sh\n",
    "\n",
    "#SBATCH --time=24:00:00\n",
    "#SBATCH -n4\n",
    "#SBATCH -p dque\n",
    "\n",
    "starttime=$(date +\"%s\")\n",
    "echo $(date -u -d @${starttime})\n",
    "echo \"options: --time=24:00:00 -n4 -p dque\"\n",
    "echo \"$0\"\n",
    "\n",
    "trim_galore --paired --trim1 SRR771401_1.fastq SRR771401_2.fastq\n",
    "\n",
    "endtime=$(date +\"%s\")\n",
    "echo $(date -u -d @${endtime})\n",
    "echo \"Time elapsed\" $(date -u -d @$(($endtime-$starttime)) +\"%T\")\n",
    "```"
   ]
  },
  {
   "cell_type": "markdown",
   "metadata": {},
   "source": [
    "# 4. Using Bismark to map to the reference genome\n",
    "\n",
    "**Note that different versions of the human genome file can introduce differences. So use the same file used by Jack**\n",
    "\n",
    "-**Location of the processed human genome used by Jack :**\n",
    "/home/jduryea/genomes/homo_sapiens/hg38"
   ]
  },
  {
   "cell_type": "markdown",
   "metadata": {},
   "source": [
    "### 4.1 To prepare a new reference genome to be used by bismark following shell script can be used.\n",
    "The downloaded referece genome (.fa) should be in the same directory where this shell script is called from.\n",
    "\n",
    "```bash\n",
    "#!/bin/sh\n",
    "\n",
    "#SBATCH --time=100:00:00\n",
    "#SBATCH -n4\n",
    "#SBATCH -p longjob\n",
    "\n",
    "starttime=$(date +\"%s\")\n",
    "echo $(date -u -d @${starttime})\n",
    "echo \"options: --time=100:00:00 -n4 -p longjob\"\n",
    "echo \"$0\"\n",
    "\n",
    "bismark_genome_preparation ./\n",
    "\n",
    "endtime=$(date +\"%s\")\n",
    "echo $(date -u -d @${endtime})\n",
    "echo \"Time elapsed\" $(date -u -d @$(($endtime-$starttime)) +\"%T\")\n",
    "```\n"
   ]
  },
  {
   "cell_type": "markdown",
   "metadata": {},
   "source": [
    "### 4.2 Mapping reads to referece genome using Bismark"
   ]
  },
  {
   "cell_type": "markdown",
   "metadata": {},
   "source": [
    " Description of the parameters used:\n",
    " \n",
    "- -q : The query input files (specified as <mate1>,<mate2> or <singles> are FASTQ files (usually having extension .fg or .fastq). This is the default.\n",
    " \n",
    "- --bowtie2 : Default: ON. Uses Bowtie 2 instead of Bowtie 1. Bismark limits Bowtie 2 to only perform end-to-end alignments, i.e. searches for alignments involving all read characters (also called untrimmed or unclipped alignments). Bismark assumes that raw sequence data is adapter and/or quality trimmed where appropriate. Both small (.bt2) and large (.bt2l) Bowtie 2 indexes are supported.\n",
    " \n",
    "- -p : This options if to paralleliztion of bowtie2\n",
    " \n",
    "- [genome folder] in this example, the pathe to the genome folder used by Jack is given.\n",
    "\n",
    "- -B : The base name of the .BAM file generated from the Bismark.\n",
    "- -1: read 1 fastq file\n",
    "- -2: read 2 fastq file\n",
    "\n",
    "\n",
    " \n",
    "\n",
    "\n",
    "```bash\n",
    "#!/bin/sh\n",
    "\n",
    "#SBATCH --time=48:00:00\n",
    "#SBATCH -n4\n",
    "#SBATCH -p dque\n",
    "\n",
    "starttime=$(date +\"%s\")\n",
    "echo $(date -u -d @${starttime})\n",
    "echo \"options: --time=48:00:00 -n4 -p dque\"\n",
    "echo \"$0\"\n",
    "\n",
    "bismark -q --bowtie2 -p 4 /home/jduryea/genomes/homo_sapiens/hg38 -B C01_HF_lane1 -1 SRR771401_1.qc.fastq -2 SRR771401_2.qc.fastq\n",
    "\n",
    "endtime=$(date +\"%s\")\n",
    "echo $(date -u -d @${endtime})\n",
    "echo \"Time elapsed\" $(date -u -d @$(($endtime-$starttime)) +\"%T\")\n",
    "```"
   ]
  },
  {
   "cell_type": "markdown",
   "metadata": {},
   "source": [
    "### 4.3 Splitting tha bam file to extract only the Chr 19 bam file to demonstrate the output using split_bam software tool\n",
    "\n",
    "\n",
    "```bash\n",
    "\n",
    "#!/bin/sh\n",
    "\n",
    "#SBATCH --time=48:00:00\n",
    "#SBATCH -n4\n",
    "#SBATCH -p dque\n",
    "\n",
    "starttime=$(date +\"%s\")\n",
    "echo $(date -u -d @${starttime})\n",
    "echo \"options: --time=48:00:00 -n4 -p dque\"\n",
    "echo \"$0\"\n",
    "\n",
    "split_bam C02_HF_lane1_pe.bam\n",
    "\n",
    "endtime=$(date +\"%s\")\n",
    "echo $(date -u -d @${endtime})\n",
    "echo \"Time elapsed\" $(date -u -d @$(($endtime-$starttime)) +\"%T\")\n",
    "\n",
    "```\n",
    "\n",
    "This generates lots of files including one for chromosome and other scaffoldings ect. **Just take the chr19 bam file** and used for furether processing.\n",
    "\n",
    "- The following file is used C01_HF_lane1_pe.REF_chr19.bam\n"
   ]
  },
  {
   "cell_type": "markdown",
   "metadata": {},
   "source": [
    "# 5. Methylation extraction using bismark_methylation_extractor"
   ]
  },
  {
   "cell_type": "markdown",
   "metadata": {},
   "source": [
    "```bash\n",
    "\n",
    "#!/bin/sh\n",
    "\n",
    "#SBATCH --time=24:00:00\n",
    "#SBATCH -n4\n",
    "#SBATCH -p dque\n",
    "\n",
    "starttime=$(date +\"%s\")\n",
    "echo $(date -u -d @${starttime})\n",
    "echo \"options: --time=24:00:00 -n4 -p dque\"\n",
    "echo \"$0\"\n",
    "\n",
    "bismark_methylation_extractor -p --comprehensive --report --multicore 4 --samtools_path /home/noahk/software/samtools-1.2 --bedGraph --buffer_size 8G --ample_memory --cytosine_report --genome_folder ~/genomes/homo_sapiens/hg38 C01_HF_lane1_pe.REF_chr19.bam\n",
    "\n",
    "endtime=$(date +\"%s\")\n",
    "echo $(date -u -d @${endtime})\n",
    "echo \"Time elapsed\" $(date -u -d @$(($endtime-$starttime)) +\"%T\")\n",
    "\n",
    "```"
   ]
  },
  {
   "cell_type": "markdown",
   "metadata": {},
   "source": [
    "### The methylation extractor produces a coverge file as shown in the sample below."
   ]
  },
  {
   "cell_type": "code",
   "execution_count": 17,
   "metadata": {
    "collapsed": true
   },
   "outputs": [],
   "source": [
    "import pandas as pd\n",
    "filename = \"../VTRNA2-1/create_plots/C01_HF_1_chr19.bismark.cov\"\n",
    "df_cov = pd.read_table(filename,header=None)\n",
    "df_cov.columns = ['Chromosome','Position','End','Perc','Methylated','Unmethylated']"
   ]
  },
  {
   "cell_type": "code",
   "execution_count": 18,
   "metadata": {},
   "outputs": [
    {
     "data": {
      "text/html": [
       "<div>\n",
       "<style>\n",
       "    .dataframe thead tr:only-child th {\n",
       "        text-align: right;\n",
       "    }\n",
       "\n",
       "    .dataframe thead th {\n",
       "        text-align: left;\n",
       "    }\n",
       "\n",
       "    .dataframe tbody tr th {\n",
       "        vertical-align: top;\n",
       "    }\n",
       "</style>\n",
       "<table border=\"1\" class=\"dataframe\">\n",
       "  <thead>\n",
       "    <tr style=\"text-align: right;\">\n",
       "      <th></th>\n",
       "      <th>Chromosome</th>\n",
       "      <th>Position</th>\n",
       "      <th>End</th>\n",
       "      <th>Perc</th>\n",
       "      <th>Methylated</th>\n",
       "      <th>Unmethylated</th>\n",
       "    </tr>\n",
       "  </thead>\n",
       "  <tbody>\n",
       "    <tr>\n",
       "      <th>1</th>\n",
       "      <td>chr19</td>\n",
       "      <td>61291</td>\n",
       "      <td>61291</td>\n",
       "      <td>100.000000</td>\n",
       "      <td>8</td>\n",
       "      <td>0</td>\n",
       "    </tr>\n",
       "    <tr>\n",
       "      <th>2</th>\n",
       "      <td>chr19</td>\n",
       "      <td>61380</td>\n",
       "      <td>61380</td>\n",
       "      <td>66.666667</td>\n",
       "      <td>2</td>\n",
       "      <td>1</td>\n",
       "    </tr>\n",
       "    <tr>\n",
       "      <th>3</th>\n",
       "      <td>chr19</td>\n",
       "      <td>61396</td>\n",
       "      <td>61396</td>\n",
       "      <td>100.000000</td>\n",
       "      <td>3</td>\n",
       "      <td>0</td>\n",
       "    </tr>\n",
       "    <tr>\n",
       "      <th>4</th>\n",
       "      <td>chr19</td>\n",
       "      <td>61496</td>\n",
       "      <td>61496</td>\n",
       "      <td>100.000000</td>\n",
       "      <td>1</td>\n",
       "      <td>0</td>\n",
       "    </tr>\n",
       "    <tr>\n",
       "      <th>5</th>\n",
       "      <td>chr19</td>\n",
       "      <td>61835</td>\n",
       "      <td>61835</td>\n",
       "      <td>0.000000</td>\n",
       "      <td>0</td>\n",
       "      <td>1</td>\n",
       "    </tr>\n",
       "    <tr>\n",
       "      <th>6</th>\n",
       "      <td>chr19</td>\n",
       "      <td>61842</td>\n",
       "      <td>61842</td>\n",
       "      <td>0.000000</td>\n",
       "      <td>0</td>\n",
       "      <td>1</td>\n",
       "    </tr>\n",
       "    <tr>\n",
       "      <th>7</th>\n",
       "      <td>chr19</td>\n",
       "      <td>61861</td>\n",
       "      <td>61861</td>\n",
       "      <td>0.000000</td>\n",
       "      <td>0</td>\n",
       "      <td>1</td>\n",
       "    </tr>\n",
       "    <tr>\n",
       "      <th>8</th>\n",
       "      <td>chr19</td>\n",
       "      <td>62198</td>\n",
       "      <td>62198</td>\n",
       "      <td>100.000000</td>\n",
       "      <td>1</td>\n",
       "      <td>0</td>\n",
       "    </tr>\n",
       "    <tr>\n",
       "      <th>9</th>\n",
       "      <td>chr19</td>\n",
       "      <td>62748</td>\n",
       "      <td>62748</td>\n",
       "      <td>0.000000</td>\n",
       "      <td>0</td>\n",
       "      <td>1</td>\n",
       "    </tr>\n",
       "  </tbody>\n",
       "</table>\n",
       "</div>"
      ],
      "text/plain": [
       "  Chromosome  Position    End        Perc  Methylated  Unmethylated\n",
       "1      chr19     61291  61291  100.000000           8             0\n",
       "2      chr19     61380  61380   66.666667           2             1\n",
       "3      chr19     61396  61396  100.000000           3             0\n",
       "4      chr19     61496  61496  100.000000           1             0\n",
       "5      chr19     61835  61835    0.000000           0             1\n",
       "6      chr19     61842  61842    0.000000           0             1\n",
       "7      chr19     61861  61861    0.000000           0             1\n",
       "8      chr19     62198  62198  100.000000           1             0\n",
       "9      chr19     62748  62748    0.000000           0             1"
      ]
     },
     "execution_count": 18,
     "metadata": {},
     "output_type": "execute_result"
    }
   ],
   "source": [
    "df_cov.iloc[1:10]"
   ]
  },
  {
   "cell_type": "markdown",
   "metadata": {},
   "source": [
    "### Position\n",
    "The Position indicate the start location of the methylated citosine base (CG) in chromose-wise (by default). There is an option in methylation extractor to specify otherwise. (Check if this is correct ?)\n",
    "\n",
    "### End\n",
    "The end position of the citosine base. Its the same as the start because its one base.\n",
    "\n",
    "### Methylation Percentage\n",
    "This percentage represent the actual read coverage of detected methylated or unmethylated reads at a position.\n",
    "\n",
    "\n",
    "### count methylated\n",
    "out of the aligned reads, how many reads say its methylated CG\n",
    "\n",
    "### count unmethylated\n",
    "out of the aligned reads, how many reads says its unmethylated CG\n",
    "\n"
   ]
  },
  {
   "cell_type": "markdown",
   "metadata": {},
   "source": [
    "# 6. Control for the read depth"
   ]
  },
  {
   "cell_type": "code",
   "execution_count": 19,
   "metadata": {},
   "outputs": [
    {
     "data": {
      "image/png": "[encoded data removed]",
      "text/plain": [
       "<IPython.core.display.Image object>"
      ]
     },
     "execution_count": 19,
     "metadata": {
      "image/png": {
       "height": 300,
       "width": 700
      }
     },
     "output_type": "execute_result"
    }
   ],
   "source": [
    "from IPython.display import Image                        \n",
    "url='http://www.metagenomics.wiki/_/rsrc/1479665634459/pdf/definition/coverage-read-depth/coverage_breadth_depth.png'\n",
    "Image(url,width=700, height=300)"
   ]
  },
  {
   "cell_type": "markdown",
   "metadata": {},
   "source": [
    "\n",
    "The follwing shell script is used to select methylated cytosine bases that have at least covered by 10 reads. This will be set as a variable in the final bining script.\n",
    "\n",
    "```bash\n",
    "awk '$5 + $6 >=10' C01_HF_1_chr19.bismark.cov > C01_HF_1_chr19.bismark.rd.cov\n",
    "\n",
    "```\n",
    "\n",
    "### After controling for Depth of Coverage"
   ]
  },
  {
   "cell_type": "code",
   "execution_count": 27,
   "metadata": {},
   "outputs": [
    {
     "data": {
      "text/html": [
       "<div>\n",
       "<style>\n",
       "    .dataframe thead tr:only-child th {\n",
       "        text-align: right;\n",
       "    }\n",
       "\n",
       "    .dataframe thead th {\n",
       "        text-align: left;\n",
       "    }\n",
       "\n",
       "    .dataframe tbody tr th {\n",
       "        vertical-align: top;\n",
       "    }\n",
       "</style>\n",
       "<table border=\"1\" class=\"dataframe\">\n",
       "  <thead>\n",
       "    <tr style=\"text-align: right;\">\n",
       "      <th></th>\n",
       "      <th>Chromosome</th>\n",
       "      <th>Position</th>\n",
       "      <th>End</th>\n",
       "      <th>Perc</th>\n",
       "      <th>Methylated</th>\n",
       "      <th>Unmethylated</th>\n",
       "    </tr>\n",
       "  </thead>\n",
       "  <tbody>\n",
       "    <tr>\n",
       "      <th>1</th>\n",
       "      <td>chr19</td>\n",
       "      <td>63147</td>\n",
       "      <td>63147</td>\n",
       "      <td>50.000000</td>\n",
       "      <td>5</td>\n",
       "      <td>5</td>\n",
       "    </tr>\n",
       "    <tr>\n",
       "      <th>2</th>\n",
       "      <td>chr19</td>\n",
       "      <td>89480</td>\n",
       "      <td>89480</td>\n",
       "      <td>89.189189</td>\n",
       "      <td>33</td>\n",
       "      <td>4</td>\n",
       "    </tr>\n",
       "    <tr>\n",
       "      <th>3</th>\n",
       "      <td>chr19</td>\n",
       "      <td>89637</td>\n",
       "      <td>89637</td>\n",
       "      <td>91.666667</td>\n",
       "      <td>22</td>\n",
       "      <td>2</td>\n",
       "    </tr>\n",
       "    <tr>\n",
       "      <th>4</th>\n",
       "      <td>chr19</td>\n",
       "      <td>93340</td>\n",
       "      <td>93340</td>\n",
       "      <td>100.000000</td>\n",
       "      <td>10</td>\n",
       "      <td>0</td>\n",
       "    </tr>\n",
       "    <tr>\n",
       "      <th>5</th>\n",
       "      <td>chr19</td>\n",
       "      <td>93344</td>\n",
       "      <td>93344</td>\n",
       "      <td>100.000000</td>\n",
       "      <td>10</td>\n",
       "      <td>0</td>\n",
       "    </tr>\n",
       "    <tr>\n",
       "      <th>6</th>\n",
       "      <td>chr19</td>\n",
       "      <td>93350</td>\n",
       "      <td>93350</td>\n",
       "      <td>100.000000</td>\n",
       "      <td>11</td>\n",
       "      <td>0</td>\n",
       "    </tr>\n",
       "    <tr>\n",
       "      <th>7</th>\n",
       "      <td>chr19</td>\n",
       "      <td>93372</td>\n",
       "      <td>93372</td>\n",
       "      <td>91.666667</td>\n",
       "      <td>11</td>\n",
       "      <td>1</td>\n",
       "    </tr>\n",
       "    <tr>\n",
       "      <th>8</th>\n",
       "      <td>chr19</td>\n",
       "      <td>93377</td>\n",
       "      <td>93377</td>\n",
       "      <td>66.666667</td>\n",
       "      <td>8</td>\n",
       "      <td>4</td>\n",
       "    </tr>\n",
       "    <tr>\n",
       "      <th>9</th>\n",
       "      <td>chr19</td>\n",
       "      <td>93388</td>\n",
       "      <td>93388</td>\n",
       "      <td>100.000000</td>\n",
       "      <td>13</td>\n",
       "      <td>0</td>\n",
       "    </tr>\n",
       "  </tbody>\n",
       "</table>\n",
       "</div>"
      ],
      "text/plain": [
       "  Chromosome  Position    End        Perc  Methylated  Unmethylated\n",
       "1      chr19     63147  63147   50.000000           5             5\n",
       "2      chr19     89480  89480   89.189189          33             4\n",
       "3      chr19     89637  89637   91.666667          22             2\n",
       "4      chr19     93340  93340  100.000000          10             0\n",
       "5      chr19     93344  93344  100.000000          10             0\n",
       "6      chr19     93350  93350  100.000000          11             0\n",
       "7      chr19     93372  93372   91.666667          11             1\n",
       "8      chr19     93377  93377   66.666667           8             4\n",
       "9      chr19     93388  93388  100.000000          13             0"
      ]
     },
     "execution_count": 27,
     "metadata": {},
     "output_type": "execute_result"
    }
   ],
   "source": [
    "import pandas as pd\n",
    "filename = \"../VTRNA2-1/create_plots/C01_HF_1_chr19.bismark.rd.cov\"\n",
    "df_cove = pd.read_table(filename,header=None)\n",
    "df_cove.columns = ['Chromosome','Position','End','Perc','Methylated','Unmethylated']\n",
    "df_cove.iloc[1:10]"
   ]
  },
  {
   "cell_type": "markdown",
   "metadata": {},
   "source": [
    "# 7. Binning of cytosine to user difined bin width (e.x: 200bp)"
   ]
  },
  {
   "cell_type": "code",
   "execution_count": 28,
   "metadata": {
    "collapsed": true
   },
   "outputs": [],
   "source": [
    "from operator import add\n",
    "import numpy as np\n",
    "import os\n",
    "import sys\n",
    "from collections import defaultdict\n",
    "bin_size = 200\n",
    "\n",
    "df_cov = df_cov.iloc[:,-6:]\n",
    "\n",
    "df_cov = df_cov.sort_values(['Chromosome', 'Position'], ascending=[True, True])\n",
    "\n",
    "df_cov = df_cov.reset_index(drop=True)"
   ]
  },
  {
   "cell_type": "markdown",
   "metadata": {},
   "source": [
    "Create a dictionary (bin_coverage) to hold the number of methylated cytosines in each bin.\n",
    "\n",
    "    - Dictionary key: A unique bin number calculated for each bin\n",
    "\n",
    "    - Dictionary value: Incremental value, as the coverage file is parsed if cytosine positions are found within the bin range, the count increase one by one."
   ]
  },
  {
   "cell_type": "code",
   "execution_count": 94,
   "metadata": {
    "collapsed": true
   },
   "outputs": [],
   "source": [
    "bin_coverage = defaultdict(lambda:0)\n"
   ]
  },
  {
   "cell_type": "markdown",
   "metadata": {},
   "source": [
    "Create a dictionary (bin_data) to hold the methylated and unmethylated counts for each cytosine witing the bin range. All the methylated counts will be added together and unmethylated count will be added together.\n",
    "\n",
    "    - Dictionary Key: A unique bin number calculated for each bin\n",
    "    \n",
    "    - Dictionary value: A list with two values first is the sum of methylated counts and second is sum of unmethylated counts"
   ]
  },
  {
   "cell_type": "code",
   "execution_count": 95,
   "metadata": {
    "collapsed": true
   },
   "outputs": [],
   "source": [
    "bin_data = defaultdict(lambda:[0,0])"
   ]
  },
  {
   "cell_type": "markdown",
   "metadata": {},
   "source": [
    "## For example, lets creat the first bin;"
   ]
  },
  {
   "cell_type": "code",
   "execution_count": 96,
   "metadata": {},
   "outputs": [
    {
     "name": "stdout",
     "output_type": "stream",
     "text": [
      "Chromosome      chr19\n",
      "Position        63147\n",
      "End             63147\n",
      "Perc               50\n",
      "Methylated          5\n",
      "Unmethylated        5\n",
      "Name: 1, dtype: object\n"
     ]
    }
   ],
   "source": [
    "# extract the first line from the coverage file\n",
    "line = df_cove.iloc[1]\n",
    "print(line)"
   ]
  },
  {
   "cell_type": "code",
   "execution_count": 97,
   "metadata": {
    "collapsed": true,
    "scrolled": true
   },
   "outputs": [],
   "source": [
    "# Extract informatin as follows,\n",
    "chrm_name = str(line[\"Chromosome\"])\n",
    "start = int(line[\"Position\"])\n",
    "end = int(line[\"End\"])\n",
    "num_methylated_reads = line[\"Methylated\"]\n",
    "num_unmethylated_reads = line[\"Unmethylated\"]"
   ]
  },
  {
   "cell_type": "code",
   "execution_count": 98,
   "metadata": {},
   "outputs": [
    {
     "name": "stdout",
     "output_type": "stream",
     "text": [
      "315\n"
     ]
    }
   ],
   "source": [
    "bin_number = (start-1)//bin_size # Using integer division is the key here\n",
    "print (bin_number)"
   ]
  },
  {
   "cell_type": "code",
   "execution_count": 99,
   "metadata": {},
   "outputs": [
    {
     "name": "stdout",
     "output_type": "stream",
     "text": [
      "63200\n"
     ]
    }
   ],
   "source": [
    "bin_label = (bin_number*bin_size) + bin_size\n",
    "print (bin_label)"
   ]
  },
  {
   "cell_type": "markdown",
   "metadata": {},
   "source": [
    "This creates the first bin.\n",
    "\n",
    "Then get the second row and the integer division result in getting same bin_label if within the 200 bp bin."
   ]
  },
  {
   "cell_type": "code",
   "execution_count": 100,
   "metadata": {
    "collapsed": true
   },
   "outputs": [],
   "source": [
    "bin_data[bin_label] = list(map(add, bin_data[bin_label], [num_methylated_reads,num_unmethylated_reads]))\n",
    "bin_coverage[bin_label] += 1"
   ]
  },
  {
   "cell_type": "code",
   "execution_count": 101,
   "metadata": {},
   "outputs": [
    {
     "data": {
      "text/plain": [
       "dict_items([(63200, [5, 5])])"
      ]
     },
     "execution_count": 101,
     "metadata": {},
     "output_type": "execute_result"
    }
   ],
   "source": [
    "bin_data.items()"
   ]
  },
  {
   "cell_type": "code",
   "execution_count": 102,
   "metadata": {},
   "outputs": [
    {
     "data": {
      "text/plain": [
       "dict_items([(63200, 1)])"
      ]
     },
     "execution_count": 102,
     "metadata": {},
     "output_type": "execute_result"
    }
   ],
   "source": [
    "bin_coverage.items()"
   ]
  },
  {
   "cell_type": "markdown",
   "metadata": {},
   "source": [
    "```bash\n",
    "\n",
    "read the next line from the cov file\n",
    "    if CG belongs to the first bin \n",
    "        then add to that bin. \n",
    "    else \n",
    "        create the next bin.\n",
    "        \n",
    " Do this for all lines in the coverage file.\n",
    " \n",
    " ```"
   ]
  },
  {
   "cell_type": "markdown",
   "metadata": {},
   "source": [
    "```bash\n",
    "example,\n",
    "10 => (10-1)//3 => 3\n",
    "11 => (11-1)//3 => 3\n",
    "12 => (12-1)//3 => 3\n",
    "so 10,11,12 will be in bin 3.\n",
    "13 => (13-1)//3 => 4\n",
    "\n",
    "to get the bin label,\n",
    "(bin_num(3) * bin_width(3)) + bin_width(3)\n",
    "12 => this lable is used to group (10,11,12) together\n",
    "```"
   ]
  },
  {
   "cell_type": "code",
   "execution_count": 104,
   "metadata": {
    "collapsed": true
   },
   "outputs": [],
   "source": [
    "for index, line in df_cove.iterrows():\n",
    "    # Split line into components\n",
    "    chrm_name = str(line[\"Chromosome\"])\n",
    "    start = int(line[\"Position\"])\n",
    "    end = int(line[\"End\"])\n",
    "\n",
    "    num_methylated_reads = line[\"Methylated\"]\n",
    "    num_unmethylated_reads = line[\"Unmethylated\"]\n",
    "\n",
    "    bin_number = (start-1)//bin_size # Using integer division is the key here\n",
    "    bin_label = (bin_number*bin_size) + bin_size\n",
    "\n",
    "    bin_data[bin_label] = list(map(add, bin_data[bin_label], [num_methylated_reads,num_unmethylated_reads]))\n",
    "    bin_coverage[bin_label] += 1"
   ]
  },
  {
   "cell_type": "code",
   "execution_count": 105,
   "metadata": {},
   "outputs": [
    {
     "name": "stdout",
     "output_type": "stream",
     "text": [
      "63200 - [25, 10]\n",
      "89600 - [33, 4]\n",
      "89800 - [22, 2]\n",
      "93400 - [77, 5]\n",
      "93600 - [190, 47]\n"
     ]
    }
   ],
   "source": [
    "i=0\n",
    "for k,v in bin_data.items():\n",
    "    i=i+1\n",
    "    if (i == 6):\n",
    "        break\n",
    "    print (\"%s - %s\" % (str(k), str(v)))"
   ]
  },
  {
   "cell_type": "code",
   "execution_count": 106,
   "metadata": {},
   "outputs": [
    {
     "name": "stdout",
     "output_type": "stream",
     "text": [
      "63200 - 3\n",
      "89600 - 1\n",
      "89800 - 1\n",
      "93400 - 7\n",
      "93600 - 18\n"
     ]
    }
   ],
   "source": [
    "i=0\n",
    "for k,v in bin_coverage.items():\n",
    "    i=i+1\n",
    "    if (i == 6):\n",
    "        break\n",
    "    print (\"%s - %s\" % (str(k), str(v)))"
   ]
  },
  {
   "cell_type": "markdown",
   "metadata": {},
   "source": []
  },
  {
   "cell_type": "code",
   "execution_count": 114,
   "metadata": {
    "collapsed": true
   },
   "outputs": [],
   "source": [
    "\n",
    "coords = []\n",
    "bin_names = []\n",
    "methylations = []\n",
    "cpgs_covered = []\n",
    "\n",
    "# Append bin data do lists so we can add them to the data frame\n",
    "sorted_keys = list(bin_data.keys())\n",
    "sorted_keys.sort()"
   ]
  },
  {
   "cell_type": "markdown",
   "metadata": {},
   "source": [
    "For each bin, calculate the coordinte for USCS GBrowser and percentage of average methylation."
   ]
  },
  {
   "cell_type": "code",
   "execution_count": 117,
   "metadata": {},
   "outputs": [
    {
     "name": "stdout",
     "output_type": "stream",
     "text": [
      "chr19_63200 63000 63200 chr19:63000-63200\n"
     ]
    }
   ],
   "source": [
    "#for _bin in sorted_keys:\n",
    "# Caclucate Coordinates\n",
    "_bin = sorted_keys[0]\n",
    "bin_name = chrm_name + \"_\" + str(_bin)\n",
    "bin_start_loc = _bin - bin_size\n",
    "bin_end_loc = _bin\n",
    "UCSC_browser_coordinates = chrm_name + \":\" + str(bin_start_loc) + \"-\" +  str(bin_end_loc)\n",
    "\n",
    "print(bin_name,bin_start_loc,bin_end_loc,UCSC_browser_coordinates)\n"
   ]
  },
  {
   "cell_type": "code",
   "execution_count": 118,
   "metadata": {},
   "outputs": [
    {
     "name": "stdout",
     "output_type": "stream",
     "text": [
      "[25, 10]\n",
      "71.4285714286\n"
     ]
    }
   ],
   "source": [
    "# Calculate Methylation percentage\n",
    "bin_methylation_data = bin_data[_bin]\n",
    "print(bin_methylation_data)\n",
    "avg_methylation = 0\n",
    "if bin_methylation_data[0]+bin_methylation_data[1] != 0: # Denominator is not 0\n",
    "    avg_methylation  = 100.0*bin_methylation_data[0]/(bin_methylation_data[0]+bin_methylation_data[1])\n",
    "print(avg_methylation)"
   ]
  },
  {
   "cell_type": "code",
   "execution_count": 119,
   "metadata": {},
   "outputs": [
    {
     "data": {
      "text/plain": [
       "3"
      ]
     },
     "execution_count": 119,
     "metadata": {},
     "output_type": "execute_result"
    }
   ],
   "source": [
    "bin_coverage[_bin]"
   ]
  },
  {
   "cell_type": "markdown",
   "metadata": {},
   "source": [
    "Now, lets do this for all bins."
   ]
  },
  {
   "cell_type": "code",
   "execution_count": 120,
   "metadata": {
    "collapsed": true
   },
   "outputs": [],
   "source": [
    "\n",
    "sorted_keys = list(bin_data.keys())\n",
    "sorted_keys.sort()\n",
    "for _bin in sorted_keys:\n",
    "\n",
    "    # Coordinates\n",
    "    bin_name = chrm_name + \"_\" + str(_bin)\n",
    "    bin_start_loc = _bin - bin_size\n",
    "    bin_end_loc = _bin\n",
    "    UCSC_browser_coordinates = chrm_name + \":\" + str(bin_start_loc) + \"-\" +  str(bin_end_loc)\n",
    "\n",
    "    # Methylation percentage\n",
    "    bin_methylation_data = bin_data[_bin]\n",
    "    avg_methylation = 0\n",
    "    if bin_methylation_data[0]+bin_methylation_data[1] != 0: # Denominator is not 0\n",
    "        avg_methylation  = 100.0*bin_methylation_data[0]/(bin_methylation_data[0]+bin_methylation_data[1])\n",
    "\n",
    "    # Append data to lists\n",
    "    coords.append(UCSC_browser_coordinates)\n",
    "    bin_names.append(bin_name)\n",
    "    methylations.append(avg_methylation)\n",
    "    cpgs_covered.append(bin_coverage[_bin])\n"
   ]
  },
  {
   "cell_type": "code",
   "execution_count": 141,
   "metadata": {
    "collapsed": true
   },
   "outputs": [],
   "source": [
    "dataframe_data = {\"UCSC Browser Coordinates\":coords,\"Bin Name\":bin_names,\"Avg Methylation\":methylations,\"CpGs Covered\":cpgs_covered}\n",
    "df = pd.DataFrame.from_dict(dataframe_data)\n",
    "rearranged_cols = [\"UCSC Browser Coordinates\",\"Bin Name\",\"Avg Methylation\",\"CpGs Covered\"]\n",
    "df = df.reindex_axis(rearranged_cols, axis=1)"
   ]
  },
  {
   "cell_type": "code",
   "execution_count": 142,
   "metadata": {},
   "outputs": [
    {
     "data": {
      "text/html": [
       "<div>\n",
       "<style>\n",
       "    .dataframe thead tr:only-child th {\n",
       "        text-align: right;\n",
       "    }\n",
       "\n",
       "    .dataframe thead th {\n",
       "        text-align: left;\n",
       "    }\n",
       "\n",
       "    .dataframe tbody tr th {\n",
       "        vertical-align: top;\n",
       "    }\n",
       "</style>\n",
       "<table border=\"1\" class=\"dataframe\">\n",
       "  <thead>\n",
       "    <tr style=\"text-align: right;\">\n",
       "      <th></th>\n",
       "      <th>UCSC Browser Coordinates</th>\n",
       "      <th>Bin Name</th>\n",
       "      <th>Avg Methylation</th>\n",
       "      <th>CpGs Covered</th>\n",
       "    </tr>\n",
       "  </thead>\n",
       "  <tbody>\n",
       "    <tr>\n",
       "      <th>0</th>\n",
       "      <td>chr19:63000-63200</td>\n",
       "      <td>chr19_63200</td>\n",
       "      <td>71.428571</td>\n",
       "      <td>3</td>\n",
       "    </tr>\n",
       "    <tr>\n",
       "      <th>1</th>\n",
       "      <td>chr19:89400-89600</td>\n",
       "      <td>chr19_89600</td>\n",
       "      <td>89.189189</td>\n",
       "      <td>1</td>\n",
       "    </tr>\n",
       "    <tr>\n",
       "      <th>2</th>\n",
       "      <td>chr19:89600-89800</td>\n",
       "      <td>chr19_89800</td>\n",
       "      <td>91.666667</td>\n",
       "      <td>1</td>\n",
       "    </tr>\n",
       "    <tr>\n",
       "      <th>3</th>\n",
       "      <td>chr19:93200-93400</td>\n",
       "      <td>chr19_93400</td>\n",
       "      <td>93.902439</td>\n",
       "      <td>7</td>\n",
       "    </tr>\n",
       "    <tr>\n",
       "      <th>4</th>\n",
       "      <td>chr19:93400-93600</td>\n",
       "      <td>chr19_93600</td>\n",
       "      <td>80.168776</td>\n",
       "      <td>18</td>\n",
       "    </tr>\n",
       "    <tr>\n",
       "      <th>5</th>\n",
       "      <td>chr19:93600-93800</td>\n",
       "      <td>chr19_93800</td>\n",
       "      <td>98.181818</td>\n",
       "      <td>5</td>\n",
       "    </tr>\n",
       "    <tr>\n",
       "      <th>6</th>\n",
       "      <td>chr19:96000-96200</td>\n",
       "      <td>chr19_96200</td>\n",
       "      <td>3.333333</td>\n",
       "      <td>1</td>\n",
       "    </tr>\n",
       "    <tr>\n",
       "      <th>7</th>\n",
       "      <td>chr19:96200-96400</td>\n",
       "      <td>chr19_96400</td>\n",
       "      <td>24.647887</td>\n",
       "      <td>1</td>\n",
       "    </tr>\n",
       "    <tr>\n",
       "      <th>8</th>\n",
       "      <td>chr19:99200-99400</td>\n",
       "      <td>chr19_99400</td>\n",
       "      <td>96.428571</td>\n",
       "      <td>1</td>\n",
       "    </tr>\n",
       "    <tr>\n",
       "      <th>9</th>\n",
       "      <td>chr19:99400-99600</td>\n",
       "      <td>chr19_99600</td>\n",
       "      <td>100.000000</td>\n",
       "      <td>1</td>\n",
       "    </tr>\n",
       "  </tbody>\n",
       "</table>\n",
       "</div>"
      ],
      "text/plain": [
       "  UCSC Browser Coordinates     Bin Name  Avg Methylation  CpGs Covered\n",
       "0        chr19:63000-63200  chr19_63200        71.428571             3\n",
       "1        chr19:89400-89600  chr19_89600        89.189189             1\n",
       "2        chr19:89600-89800  chr19_89800        91.666667             1\n",
       "3        chr19:93200-93400  chr19_93400        93.902439             7\n",
       "4        chr19:93400-93600  chr19_93600        80.168776            18\n",
       "5        chr19:93600-93800  chr19_93800        98.181818             5\n",
       "6        chr19:96000-96200  chr19_96200         3.333333             1\n",
       "7        chr19:96200-96400  chr19_96400        24.647887             1\n",
       "8        chr19:99200-99400  chr19_99400        96.428571             1\n",
       "9        chr19:99400-99600  chr19_99600       100.000000             1"
      ]
     },
     "execution_count": 142,
     "metadata": {},
     "output_type": "execute_result"
    }
   ],
   "source": [
    "df.iloc[0:10]"
   ]
  },
  {
   "cell_type": "markdown",
   "metadata": {},
   "source": [
    "### 7.1 Control for the number of CpG in each bin\n",
    "\n",
    "Based on reqirement a filter will be applied here to remove bins which has less than the user specified number of CpGs(ex.2)"
   ]
  },
  {
   "cell_type": "code",
   "execution_count": 143,
   "metadata": {
    "collapsed": true
   },
   "outputs": [],
   "source": [
    "CpG_cov = 2\n",
    "df = df[(df['CpGs Covered']>CpG_cov)]"
   ]
  },
  {
   "cell_type": "code",
   "execution_count": null,
   "metadata": {
    "collapsed": true
   },
   "outputs": [],
   "source": []
  },
  {
   "cell_type": "markdown",
   "metadata": {
    "collapsed": true
   },
   "source": [
    "# 8. Final output from the binning script"
   ]
  },
  {
   "cell_type": "code",
   "execution_count": 144,
   "metadata": {},
   "outputs": [
    {
     "data": {
      "text/html": [
       "<div>\n",
       "<style>\n",
       "    .dataframe thead tr:only-child th {\n",
       "        text-align: right;\n",
       "    }\n",
       "\n",
       "    .dataframe thead th {\n",
       "        text-align: left;\n",
       "    }\n",
       "\n",
       "    .dataframe tbody tr th {\n",
       "        vertical-align: top;\n",
       "    }\n",
       "</style>\n",
       "<table border=\"1\" class=\"dataframe\">\n",
       "  <thead>\n",
       "    <tr style=\"text-align: right;\">\n",
       "      <th></th>\n",
       "      <th>UCSC Browser Coordinates</th>\n",
       "      <th>Bin Name</th>\n",
       "      <th>Avg Methylation</th>\n",
       "      <th>CpGs Covered</th>\n",
       "    </tr>\n",
       "  </thead>\n",
       "  <tbody>\n",
       "    <tr>\n",
       "      <th>3</th>\n",
       "      <td>chr19:93200-93400</td>\n",
       "      <td>chr19_93400</td>\n",
       "      <td>93.902439</td>\n",
       "      <td>7</td>\n",
       "    </tr>\n",
       "    <tr>\n",
       "      <th>4</th>\n",
       "      <td>chr19:93400-93600</td>\n",
       "      <td>chr19_93600</td>\n",
       "      <td>80.168776</td>\n",
       "      <td>18</td>\n",
       "    </tr>\n",
       "    <tr>\n",
       "      <th>5</th>\n",
       "      <td>chr19:93600-93800</td>\n",
       "      <td>chr19_93800</td>\n",
       "      <td>98.181818</td>\n",
       "      <td>5</td>\n",
       "    </tr>\n",
       "    <tr>\n",
       "      <th>11</th>\n",
       "      <td>chr19:105000-105200</td>\n",
       "      <td>chr19_105200</td>\n",
       "      <td>77.464789</td>\n",
       "      <td>3</td>\n",
       "    </tr>\n",
       "    <tr>\n",
       "      <th>15</th>\n",
       "      <td>chr19:200200-200400</td>\n",
       "      <td>chr19_200400</td>\n",
       "      <td>92.592593</td>\n",
       "      <td>8</td>\n",
       "    </tr>\n",
       "    <tr>\n",
       "      <th>19</th>\n",
       "      <td>chr19:245800-246000</td>\n",
       "      <td>chr19_246000</td>\n",
       "      <td>86.111111</td>\n",
       "      <td>3</td>\n",
       "    </tr>\n",
       "    <tr>\n",
       "      <th>20</th>\n",
       "      <td>chr19:246400-246600</td>\n",
       "      <td>chr19_246600</td>\n",
       "      <td>84.146341</td>\n",
       "      <td>8</td>\n",
       "    </tr>\n",
       "    <tr>\n",
       "      <th>21</th>\n",
       "      <td>chr19:246600-246800</td>\n",
       "      <td>chr19_246800</td>\n",
       "      <td>82.068966</td>\n",
       "      <td>21</td>\n",
       "    </tr>\n",
       "    <tr>\n",
       "      <th>22</th>\n",
       "      <td>chr19:246800-247000</td>\n",
       "      <td>chr19_247000</td>\n",
       "      <td>72.164948</td>\n",
       "      <td>9</td>\n",
       "    </tr>\n",
       "    <tr>\n",
       "      <th>23</th>\n",
       "      <td>chr19:247000-247200</td>\n",
       "      <td>chr19_247200</td>\n",
       "      <td>42.241379</td>\n",
       "      <td>10</td>\n",
       "    </tr>\n",
       "    <tr>\n",
       "      <th>24</th>\n",
       "      <td>chr19:247200-247400</td>\n",
       "      <td>chr19_247400</td>\n",
       "      <td>43.298969</td>\n",
       "      <td>8</td>\n",
       "    </tr>\n",
       "    <tr>\n",
       "      <th>27</th>\n",
       "      <td>chr19:254200-254400</td>\n",
       "      <td>chr19_254400</td>\n",
       "      <td>35.135135</td>\n",
       "      <td>3</td>\n",
       "    </tr>\n",
       "    <tr>\n",
       "      <th>31</th>\n",
       "      <td>chr19:258000-258200</td>\n",
       "      <td>chr19_258200</td>\n",
       "      <td>60.000000</td>\n",
       "      <td>3</td>\n",
       "    </tr>\n",
       "    <tr>\n",
       "      <th>32</th>\n",
       "      <td>chr19:258800-259000</td>\n",
       "      <td>chr19_259000</td>\n",
       "      <td>80.645161</td>\n",
       "      <td>4</td>\n",
       "    </tr>\n",
       "    <tr>\n",
       "      <th>34</th>\n",
       "      <td>chr19:259600-259800</td>\n",
       "      <td>chr19_259800</td>\n",
       "      <td>72.500000</td>\n",
       "      <td>3</td>\n",
       "    </tr>\n",
       "    <tr>\n",
       "      <th>35</th>\n",
       "      <td>chr19:259800-260000</td>\n",
       "      <td>chr19_260000</td>\n",
       "      <td>98.412698</td>\n",
       "      <td>4</td>\n",
       "    </tr>\n",
       "    <tr>\n",
       "      <th>37</th>\n",
       "      <td>chr19:260800-261000</td>\n",
       "      <td>chr19_261000</td>\n",
       "      <td>87.804878</td>\n",
       "      <td>4</td>\n",
       "    </tr>\n",
       "    <tr>\n",
       "      <th>40</th>\n",
       "      <td>chr19:261400-261600</td>\n",
       "      <td>chr19_261600</td>\n",
       "      <td>86.000000</td>\n",
       "      <td>4</td>\n",
       "    </tr>\n",
       "    <tr>\n",
       "      <th>42</th>\n",
       "      <td>chr19:263000-263200</td>\n",
       "      <td>chr19_263200</td>\n",
       "      <td>33.962264</td>\n",
       "      <td>4</td>\n",
       "    </tr>\n",
       "  </tbody>\n",
       "</table>\n",
       "</div>"
      ],
      "text/plain": [
       "   UCSC Browser Coordinates      Bin Name  Avg Methylation  CpGs Covered\n",
       "3         chr19:93200-93400   chr19_93400        93.902439             7\n",
       "4         chr19:93400-93600   chr19_93600        80.168776            18\n",
       "5         chr19:93600-93800   chr19_93800        98.181818             5\n",
       "11      chr19:105000-105200  chr19_105200        77.464789             3\n",
       "15      chr19:200200-200400  chr19_200400        92.592593             8\n",
       "19      chr19:245800-246000  chr19_246000        86.111111             3\n",
       "20      chr19:246400-246600  chr19_246600        84.146341             8\n",
       "21      chr19:246600-246800  chr19_246800        82.068966            21\n",
       "22      chr19:246800-247000  chr19_247000        72.164948             9\n",
       "23      chr19:247000-247200  chr19_247200        42.241379            10\n",
       "24      chr19:247200-247400  chr19_247400        43.298969             8\n",
       "27      chr19:254200-254400  chr19_254400        35.135135             3\n",
       "31      chr19:258000-258200  chr19_258200        60.000000             3\n",
       "32      chr19:258800-259000  chr19_259000        80.645161             4\n",
       "34      chr19:259600-259800  chr19_259800        72.500000             3\n",
       "35      chr19:259800-260000  chr19_260000        98.412698             4\n",
       "37      chr19:260800-261000  chr19_261000        87.804878             4\n",
       "40      chr19:261400-261600  chr19_261600        86.000000             4\n",
       "42      chr19:263000-263200  chr19_263200        33.962264             4"
      ]
     },
     "execution_count": 144,
     "metadata": {},
     "output_type": "execute_result"
    }
   ],
   "source": [
    "df[1:20]"
   ]
  },
  {
   "cell_type": "code",
   "execution_count": null,
   "metadata": {
    "collapsed": true
   },
   "outputs": [],
   "source": []
  }
 ],
 "metadata": {
  "kernelspec": {
   "display_name": "Python 3",
   "language": "python",
   "name": "python3"
  },
  "language_info": {
   "codemirror_mode": {
    "name": "ipython",
    "version": 3
   },
   "file_extension": ".py",
   "mimetype": "text/x-python",
   "name": "python",
   "nbconvert_exporter": "python",
   "pygments_lexer": "ipython3",
   "version": "3.6.1"
  }
 },
 "nbformat": 4,
 "nbformat_minor": 2
}
